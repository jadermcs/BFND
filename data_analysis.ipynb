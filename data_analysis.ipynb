{
 "cells": [
  {
   "cell_type": "code",
   "execution_count": 49,
   "id": "5ae86e5c-ddcb-4b38-b5df-ab7015d53b8e",
   "metadata": {},
   "outputs": [],
   "source": [
    "from transformers import pipeline\n",
    "from datasets import load_dataset\n",
    "import nltk\n",
    "from nltk.tokenize import sent_tokenize\n",
    "from tqdm.notebook import tqdm\n",
    "import matplotlib.pyplot as plt\n",
    "from rapidfuzz import fuzz\n",
    "import spacy\n",
    "from hashlib import sha256"
   ]
  },
  {
   "cell_type": "code",
   "execution_count": 2,
   "id": "1a188c39-8276-40f6-99b0-caa14156c56a",
   "metadata": {},
   "outputs": [
    {
     "name": "stderr",
     "output_type": "stream",
     "text": [
      "[nltk_data] Downloading package punkt to\n",
      "[nltk_data]     /home/martins_32048/nltk_data...\n",
      "[nltk_data]   Package punkt is already up-to-date!\n"
     ]
    }
   ],
   "source": [
    "nltk.download('punkt')  # Download the necessary resources\n",
    "plt.style.use('ggplot')\n",
    "# Load the SpaCy model (use a language model that covers your corpus language)\n",
    "nlp = spacy.load(\"en_core_web_sm\")"
   ]
  },
  {
   "cell_type": "code",
   "execution_count": 3,
   "id": "8baacd4a-1567-4fb7-874a-e0c286274404",
   "metadata": {},
   "outputs": [],
   "source": [
    "model_path = \"cardiffnlp/twitter-roberta-base-sentiment-latest\""
   ]
  },
  {
   "cell_type": "code",
   "execution_count": 4,
   "id": "10f661cc-ba92-4919-99a9-ed950adf6f50",
   "metadata": {},
   "outputs": [
    {
     "name": "stderr",
     "output_type": "stream",
     "text": [
      "Some weights of the model checkpoint at cardiffnlp/twitter-roberta-base-sentiment-latest were not used when initializing RobertaForSequenceClassification: ['roberta.pooler.dense.bias', 'roberta.pooler.dense.weight']\n",
      "- This IS expected if you are initializing RobertaForSequenceClassification from the checkpoint of a model trained on another task or with another architecture (e.g. initializing a BertForSequenceClassification model from a BertForPreTraining model).\n",
      "- This IS NOT expected if you are initializing RobertaForSequenceClassification from the checkpoint of a model that you expect to be exactly identical (initializing a BertForSequenceClassification model from a BertForSequenceClassification model).\n",
      "Device set to use cpu\n"
     ]
    },
    {
     "data": {
      "text/plain": [
       "[{'label': 'negative', 'score': 0.7235768437385559}]"
      ]
     },
     "execution_count": 4,
     "metadata": {},
     "output_type": "execute_result"
    }
   ],
   "source": [
    "sentiment_task = pipeline(\"sentiment-analysis\", model=model_path, tokenizer=model_path)\n",
    "sentiment_task(\"Covid cases are increasing fast!\")"
   ]
  },
  {
   "cell_type": "code",
   "execution_count": 5,
   "id": "7c54ade7-7517-4755-8874-e70c5f9d8ee6",
   "metadata": {},
   "outputs": [],
   "source": [
    "import pandas as pd"
   ]
  },
  {
   "cell_type": "code",
   "execution_count": 62,
   "id": "54d1a817-5be4-4c3f-a811-03d09783d854",
   "metadata": {},
   "outputs": [
    {
     "data": {
      "application/vnd.jupyter.widget-view+json": {
       "model_id": "9b4a8d35baa44befaa9e8523af3c5d70",
       "version_major": 2,
       "version_minor": 0
      },
      "text/plain": [
       "Resolving data files:   0%|          | 0/29 [00:00<?, ?it/s]"
      ]
     },
     "metadata": {},
     "output_type": "display_data"
    },
    {
     "data": {
      "application/vnd.jupyter.widget-view+json": {
       "model_id": "49d5cb2079174c9aad750bfad150a3a0",
       "version_major": 2,
       "version_minor": 0
      },
      "text/plain": [
       "Resolving data files:   0%|          | 0/29 [00:00<?, ?it/s]"
      ]
     },
     "metadata": {},
     "output_type": "display_data"
    },
    {
     "data": {
      "application/vnd.jupyter.widget-view+json": {
       "model_id": "560f73f08ba64ed485c70d106741234b",
       "version_major": 2,
       "version_minor": 0
      },
      "text/plain": [
       "Loading dataset shards:   0%|          | 0/29 [00:00<?, ?it/s]"
      ]
     },
     "metadata": {},
     "output_type": "display_data"
    }
   ],
   "source": [
    "dataset = load_dataset(\"biglam/hmd_newspapers\")[\"train\"]"
   ]
  },
  {
   "cell_type": "code",
   "execution_count": 63,
   "id": "46af529f-6a0c-45ad-b73d-626d9a8a4719",
   "metadata": {},
   "outputs": [
    {
     "data": {
      "text/plain": [
       "{'source': 'British Library Heritage Made Digital Newspapers',\n",
       " 'title': 'The Liverpool Standard and General Commercial Advertiser.',\n",
       " 'location': 'Liverpool, Merseyside, England',\n",
       " 'date': datetime.datetime(1855, 7, 17, 0, 0),\n",
       " 'item_type': 'ARTICLE',\n",
       " 'word_count': 2226,\n",
       " 'ocr_quality_mean': 0.9616,\n",
       " 'ocr_quality_sd': 0.0951,\n",
       " 'text': 'alcs by Ruction.\\n\\nBy Messrs. THOS. WINSTANLEY and SONS,\\nTHtsDAY(Tuesday), the 17th inst.\\' at Two o\\'clock in the Afternoon,\\nat the Clarendon-rooms, South John-street, Liverpool, subject\\nto conditions then to be produced.\\nAPIECE of LAND, with the WORKSHOPS,\\nCOACH-HOUSE, STABLE, COUNTING-HOUSE, and\\nother Buildings thereon erected, situate on the west side of Scot-\\nland-road, within Liverpool, and now in the occupation of Mr.\\nThomas Mackarell, builder.\\nThe Land contains in front to Scotland-road 104 feet 3 inches,\\nand in breadth at the back to Gore street 100 feet 9 inches, and\\nruns in depth on the north side 120 feet 9 inches, and on the south\\nside 80 feet 6 inches. and contains in the whole 1076 superficial\\nsquare yards, or thereabouts. The Workshop is commodious and\\nwell built, and is 82 feet long by 23 feet wide, and has an excellent\\nStove Drying-room and other conveniences attached, and the\\nYard and Premises afford a good opportunity for any person\\ncarrying on the business of a Timber-merchant, Builder, or any\\nother trade requiring spacious Premises. Immediate possession\\nmay be had.\\nThe Tenure is Leasehold under the Earl of Derby for the re-\\nsidue of a term of 75 years, commencing on the 25th March, 1846,\\nsubject to the annual rent of .t\\'so and the usual covenants.\\nFor further particulars apply to Mr. THOMAS MACKARELL, on\\nthe Premises; or to Messrs. NORRIS and SoN, Solicitors, North\\nJohn-street, Liverpool.\\n\\nHOUSEHOLD FURNITURE, CHOICE GREENHOUSE\\nPLANTS, &c., HIGH PARK-STREET.\\nMESSRS. THOS. WINSTANLEY and SONS\\nwill SELL by AUCTION, on THURSDAY next, the 19th,\\nand FRIDAY, the 20th instant, at Eleven o\\'clock precisely each\\nday, on the Premises, No. 21, High Park-street, Toxteth-park,\\nThe genuine HOUSEHOLD FURNITURE, China, Glass, Plated\\nArticles, 6i-Octave Grand Piano-forte, handsome Ivory Flute,\\nwith Eight Silver Keys, Books, choice Greenhouse Plants, Erec-\\ntion of the Conservatory, Greenhouse, &c., the property of a Gen-\\ntleman removing.\\nIn the DINING-ROOM and DRAWING. ROOM are Sixteen excellent\\nMahogany Chairs and Four Armed Ditto, massive-framed Couch\\nand a Sofa, in Hair-cloth, Set of Dining Tables, 10 feet long, ex-\\ncellent Loo Table and Pair of Card Ditto to match, capital Maho-\\ngany Cabinet containing a collection of Shells, Lady\\'s Davenport\\nWriting Desk of Rosewood, Inlaid Mahogany Sideboard, 7 feet\\nlong, Brussels Carpets and Hearth-rugs, Window Curtains, Fen-\\nders, Fire-irons, &c.\\nThe CHAMBERS contain lofty Four-post and Camp Bedsteads,\\nWith suitable Hangings, Hair Mattresses, Feather Beds and Bed-\\nding, Mahogany Wardrobes, with Secretaire Drawer, White and\\nGold Painted Toilet Tables, Washstands, Mahogany-framed\\nCheval and Swing Dressing Glasses, Venetian and Kidder-\\nminster Carpets, Printed Druggets, &c. The useful Kitchen\\nRequisites.\\nA Collection of choice Plants, Garden Implements, Iron\\nHurdles, &c.\\nTo be viewed TO-MORROW (Wednesday), the 18th instant, when\\nCatalogues may be bad on the Premises, and at Messrs. T. WIN-\\nSTANLEY and SONS\\' Office, Church-street, Liverpool.\\n\\nFURNITURE. &c., BEDFORD•STREET SOUTH.\\nMESSRS. THOS. WINSTANLEY and SONS\\nare instructed to SELL by AUCTION, on THURSDAY\\nnext, the 19th instant, at Eleven o\\'clock precisely, on the premises,\\n112, Bedford-street South,\\nThe useful HOUSEHOLD FURNITURE, and other Effects,\\nof a Lady leaving Liverpool.\\nThe FURNITURE Of the DRAWING-ROOM and SITTING-ROOMS\\ncomprises Twels e well-made Mahogany Chairs, Sofa and Couch,\\ncovered with Hair-cloth, Mahogany Secretaire, with inclosed\\nDrawers for Minerals, and large Case of Stuffed Birds on the top,\\nhansome Mahogany Chiffionnier, ditto Centre Loo Table, capital\\nSet of Mahogany Dining \\'Tables, on Telescope Frames and Stout\\nSupports, 10 feet 10 inches long by 4 feet 6 inches wide, Brussels\\nand Kidderminster Carpets, Fenders and Fire-Irons, Gas Chan-\\ndeliers, &c. -\\n\\nThe CHAMBERS are Furnished with Polished Birch Four-pos,\\nand French Bedsteads, Painted Ditto, appropriately upholsteredt\\nFeather Beds and Bedding, Hair Mattresses, excellent and well-\\nmade Painted Winged Wardrobe, with sliding Tray Shelves,\\nCupboards and Racks for Dresses, &c., Painted Cheats of Drawers,\\nDitto Toilet Tables and Wash-stands, Carpets, Druggets, &c.,\\nthe whole of the useful Kitchen Requisites, and other Effects.\\nTo be viewed TO-MORROW (Wednesday), the 18th instant, when\\nCatalogues may be had on the Premises, and at Messrs. Thos.\\nWINSTANLEY and Sorts\\' Office, Church-street, Liverpool.\\n\\nVALUABLE SUGAR REFINERY, IN LIVERPOOL.\\nBy Messrs. THOS. WINSTANLEY and SONS,\\nOn WEDNESDAY, the Ist day of August next, at Twelve o\\'clock\\nprecisely, at the Clarendon-rooms,\\nALL that valuable Freehold SUGAR REFINERY,\\nsituate in Blackstock-street, and extending through to\\nPaul street, containing about 2,250 square yards of Land, nearly\\nall of which is roofed in. The Premises are desirably situate,\\nbeing at an easy distance from the Docks and Railways, and have\\nevery arrangement for carrying on a very extensive business.\\nThere is a Chimney 150 feet high, with Flues extending through\\nthe Premises capable of receiving any number of Furnaces which\\nmay he erected ; also a Well, yielding an unfailing supply of\\nWater.\\n\\nTWO excellent Charcoal Kilns, on the most modern and im-\\nproved principle, and capable of burning 100 tons per week.\\nThere are Four large Working Rooms, Panroom, Fill-house,\\nChar-rooms, Warehouse-rooms, Cellarage, Offices, Cooperage,\\nStabling, and every convenience, all on the spot.\\nThe MACHINERY consists of Three large2o-Horse Steam-boilers,\\nTwo Engines, Two large Vacuum Pans and Heaters, Four Filters,\\nand Cisterns, of every description, Pumps, Piping, &c.\\nFrom the advantageous position and Shipping facilities of\\nLiverpool, the Sugar Refining Business possesses every induce-\\nment for Capitalists. The Premises are ready for immediate oc-\\ncupation and working.\\nFor particulars and Notes to view apply to the Auctioneers,\\n3lessrs. THOS. WINSTANLEY and SONS; Mr. THOMAS YATES,\\nNo. 1, Basnett-street ; or to Messrs. NORTH, OARED, and SIMP-\\nSON, Solicitors, Liverpool.\\n\\nVALUABLE MACHINERY, WINDSOR FOUNDRY.\\nMESSRS. THOS. WINSTANLEY and SONS\\nare instructed to SELL by AUCTION, on THURSDAY, the\\n2nd, and FRIDAY, the 3rd of August next, at Eleven o\\'clock pre-\\ncisely each day, on the Premises, the Windsor Foundry, on the\\nnorth-east side of Smithdown-lane, opposite to the Phoenix Safe\\nWorks,\\nThe following valuable MACHINERY, IMPLEMENTS, and\\nUTENSILS-IN-TRADE, namely, an excellent Planing Machine,\\nwith 8 feet Bed, 4 feet 3 by 4 feet 6, a Shaping Machine, with one\\nfoot Stroke, a Twenty-one Inch Break Lathe, with 3 feet 2 Face\\nPlate, Boring Bar and Slide Rest, Six other excellent Lathes,\\nvarying from 7 to 14 inches, all complete with Slide Rests, a\\nScrew Cutting Lathe, Drilling Machine and small Planing Ditto,\\nTwenty-one Inch Fan, several lengths of Shafting, with Pulleys\\nattached, a Screw and Nut-cutting Machine, large quantity of\\nMoulding Boxes, Smiths\\' Hearths and Tools, Coppersmiths\\'\\nTools, a Five-ton Steel-yard, Vices, Benches, Anvils, quantity of\\nSteel Turning Tools, Bolts and Rivets, Stocks, Taps and Dies,\\n.vme rata ana rum Iron, Loom times or \\',anon,\\' sizes,\\nTwo Crab Winches, &c.\\n\\nWood Patterns for powerful Marine and Land Engines, large\\nPunching Press, Fly Wheel, Cast-iron Pipe Patterns, 3 to 6 inches\\ndiameter, &c.\\n\\nAlso, a Five-horse Portable Steam-engine and Boiler, Two Iron\\nFoot Lathes, a Twelve-inch Ditto, on Wood Bed. On the Pre-\\nmises, No. 69, Paradise-street.\\nTo be viewed two days previous to the sale, when Catalogues\\nmay be bad at the Foundry_; and at the Office of Messrs. Taos.\\nWINSTANLEY and SONS, Church-street, Liverpool.\\n\\nLEASE, GOODWILL, AND FIXTURES OF A LICENSED\\nPUBLIC-HOUSE AND SPIRIT VAULTS.\\nMESSRS. BYFORD and SON have received\\ninstructions to OFFER by PUBLIC AUCTION, THIS\\nDAY (Tuesday), the 17th instant, at Three o\\'clock, for half-past\\nprecisely, in the Afternoon, upon the Premises, sign of \"The\\nLetters,\" No. 93, St. James\\'s-street, opposite Brick.street, subject\\nto conditions then to be produced, the TENANT\\'S remaining\\nTerm in LEASE, beneficial INTEREST, and valuable FIXTURES,\\nin the aforesaid premises, by order of the proprietor, Mr. Henry\\nHarrison, who is giving up the business.\\nThe House is situate in a densely populated and leading\\nthoroughfare, is exceedingly well fitted up, both for the counter\\nand out-door trade. There is also an excellent Clubroom attached.\\nFor further particulars apply to Messrs. BYFORD and SON,\\nAuctioneers and Appraisers, Clayton-square.\\n\\nLUCAS\\'S, LIVERPOOL.—WEDNESDAY\\'S SALE of CART\\nHORSES, WAGGONS, CARTS, &c.\\nBy Messrs. LUCAS and CO.,\\nTO-MORROW, (Wednesday,) the IBth instant, at Twelve o\\'clock\\nprecisely, at the Repository, Great Charlotte-street, Liverpool,\\nTHIRTY CART HORSES, with great power,\\nsubstance, and activity, well calculated for heavy draught\\npurposes, and in prime working condition.\\nForty VEHICLES, consisting of Lorries, Carts, Spring Vans,\\nFloats and Whitechapels.\\nShaft and Chain Gears, Saddlery, &c.\\nOn view on the Morning of Sale.\\n\\nLUCAS\\'S, LIVERPOOL—SELECT SALE of FIRST-CLASS\\nHORSES.\\n\\nMESSRS. LUCAS and CO. beg to intimate to\\nNoblemen and Gentlemen, having valuable Horses to\\nDispose of, that their next SELECT SALE will take place\\nOn THURSDAY, the 26th instant.\\nFull Descriptions of all Horses intended for this Sale must be\\nforwarded before the 19th instant, and the Horses must be sent\\nto the Repository Two Days prior to the Sale.\\n\\nBy Mr. BRANCH,\\nOn Tustin/oz. the 31st instant, at Six o\\'clock in the evening, at\\nGough\\'s Woodside Hotel, subject to conditions to be then MO-\\nOtner lots a. ..,ay ue agreed\\non at the time of sale,\\n\\nLot IA MESSLTAGE, with GARDEN attached,\\nsituate on the west side of, and numbered 39, in\\nChurch-street, in Birkenhead, in the occupation of Mr. Storey,\\nas tenant, at an annual rental of .£65 per annum. This Lot\\ncontains 1,890 Square Yards of Land, or thereabouts.\\nLot 2. Six several SHOPS and MESSUAGES, situate respec-\\ntively on the south side of Ivy-street and in Grange-street, in\\nBirkenhead aforesaid. The Premises in Ivy-street consist of Two\\nShops, in the respective occupations of Philip Kingham and\\nEllen Johnson, and a BEERHOUSE, in the occupation of Francis\\nArmitage, having a frontage also to Grange-street.\\nThe Premises in Grange-street consist of Three adjoining\\nMessuages, in the respective occupations of Robert Worthington,\\nMargaret Hopkins, and Thomas M\\'Grath. This Lot produces an\\naggregate yearly rental of *92. 10s.\\nThe Tenure of Lots 1 and 2 is Freehold of Inheritance.\\nLot 3. A MESSUAGE and Two COTTAGES, behind the same,\\nsituate in Ivy-street aforesaid, in the respective occupations of\\nWilliam Whitby and another. These Premises are held for the\\nresidue of a term of 1,0A)0 years, which commenced on the 7th of\\nJune, 1830, and produces an aggregate yearly rental of £3l. 48.\\nper annum.\\nFor further particulars apply to Messrs. Jot\\'s and HENRY\\nGREGORY, Solicitors, \\'3, York-buildings, Sweeting-street, Liver-\\npool.\\n\\nBY ORDER OF THE TRUSTEES OF THE LATE CHARLES\\nTA YLEUR, ESQ.\\nIN a few weeks will be offered for PUBLIC SALE,\\nthe WOODCROFT ESTATE, freehold of Inheritance, con-\\ntaining about 50 acres, situate in the township of Wavertree, on\\nthe north or north-east side of Smithdown-lane, and running\\nalong Wellington-road towards Wavertree-lane, with which latter\\nit communicates by a new street lately made the whole length of\\nthe property.\\nIt is proposed to sell the estate in lots of from )0,000 to 18,000\\nyards, but, if required, it will be sold in such other quantities as\\nmay suit purchasers.\\nWoodcroft House, which was built with every attention to con-\\nvenience and comfort, with good outbuildings and offices, com-\\nprising about 18,000 yards, forms a very desirable lot.\\nThe rapid increase in the population of Liverpool calls for the\\nerection of moderate-sized villas, with good gardens attached, and\\nthis estate is particularly suited for this purpose, being within an\\neasy walking distance of Liverpool.\\nThe great sewer now being constructed for the suburbs will af-\\nford an excellent drainage.\\nPlans and further particulars may be had by application to P.\\nSERJEANTSON, Esq., 17,01dhall4street ; or Messrs. LACE, RIDGE,\\nand RoscoE, Castle-street.\\n\\nBy Messrs. WALKER and ACKERLEY,\\nOn THURSDAY next, the 19th instant, at Seven o\\'clock in the\\nEvening, at the Red Lion Inn, Garston, in lots,\\nFOUR SHOPS and Thirteen COTTAGES, situate\\nin the village of Garston, and several Plots of LAND\\nadjoining, adapted for Cottages. Tenure Freehold of Inheritance.\\nAlso, a Vinery, Vines, and Two Cucumber Frames, Sheds, &c.\\nTo treat apply to Mr. JOHN BELL, GRIMM ; or Mr. RICHARD\\nRADCLIFFE, Cook-street, Liverpool, who will produce a Plan of\\nthe Property, showing the lots.\\n\\nFREEHOLD HOUSES, EDGE-HILL, WEST DERBY.\\nBy Messrs. WALKER and ACKERLEY,\\nOn TUESDAY next, the 24th instant, at Half-past One o\\'clock in the\\nAfternoon, for Two o\\'clock precisely, at the Clarendon-rooms,\\nSouth John-street, Liverpool, subject to the conditions of sale\\nto be produced,\\nALL those Five recently well-built DWELLING-\\nHOUSES, situate upon the Piece of Land lying on the\\nsouth side of Harbord-street, at Edge-hill, within West Derby,\\nand being numbered 12, 14, 16, 18, and 20, and occupied by Messrs.\\nCullow, Miller, and others, which said Piece of Land contains in\\nfront to Harbord-street 75 feet 6 inches, and extends in depth\\nbackwards 45 feet. The Property is Freehold of Inheritance, and\\nis now let at the annual rental of .\\'BB 14s.\\n\\nFor further particulars, apply at the Office of Mr. WILLIAM\\nOWEN, Solicitor, 7, Clayton-square, Liverpool.\\n\\nTO be LET, Furnished, for the Summer Months,\\na VILLA, at Broughton, Chester, within twelve minutes\\'\\nwalk of the Railway Station, on the banks of the River Dee, con-\\nsisting of Six Bedrooms, Dining and Drawing Rooms, and Break-\\nfast Parlour, Butler\\'s Pantry, Warm and Cold Baths, Two good\\nGardens, with Greenhouse, &c. The River flows past the Garden,\\nwhich is above the Dam, and not subject to tide, and Boating at\\nall hours can be enjoyed, and the water is always clear and\\nsmooth. For further particulars apply to Mr. M`QuiE, Account-\\nant, 4, Harrington-street, Liverpool.\\n'}"
      ]
     },
     "execution_count": 63,
     "metadata": {},
     "output_type": "execute_result"
    }
   ],
   "source": [
    "dataset[0]"
   ]
  },
  {
   "cell_type": "code",
   "execution_count": 64,
   "id": "95b4969c-5190-49a4-ad1f-ea00075dbc5f",
   "metadata": {},
   "outputs": [],
   "source": [
    "dataset = dataset.filter(lambda x: x[\"ocr_quality_mean\"] and x[\"ocr_quality_mean\"] > 0.8)"
   ]
  },
  {
   "cell_type": "code",
   "execution_count": 69,
   "id": "6af53f48-497d-43fd-bf50-506427ef9ee6",
   "metadata": {},
   "outputs": [],
   "source": [
    "def process(example):\n",
    "    example[\"text\"] = example[\"text\"].replace(\"\\n\", \" \")\n",
    "    example[\"text\"] = example[\"text\"].replace(\"- \", \"\")\n",
    "    return example"
   ]
  },
  {
   "cell_type": "code",
   "execution_count": 70,
   "id": "6db2b6ba-fe8e-4a38-b5d1-fc4eb26c255f",
   "metadata": {},
   "outputs": [
    {
     "data": {
      "application/vnd.jupyter.widget-view+json": {
       "model_id": "40162ee3ab4c488a8244052b2fdf84c0",
       "version_major": 2,
       "version_minor": 0
      },
      "text/plain": [
       "Map:   0%|          | 0/1762137 [00:00<?, ? examples/s]"
      ]
     },
     "metadata": {},
     "output_type": "display_data"
    }
   ],
   "source": [
    "dataset = dataset.map(process)"
   ]
  },
  {
   "cell_type": "code",
   "execution_count": 67,
   "id": "55b24732-1f16-4246-9675-d447dff10860",
   "metadata": {},
   "outputs": [],
   "source": [
    "def get_hash(examples):\n",
    "    examples[\"hash\"] = sha256(examples[\"text\"].encode('utf-8')).hexdigest()[:16]\n",
    "    return examples"
   ]
  },
  {
   "cell_type": "code",
   "execution_count": null,
   "id": "ded430dc-c1c2-43a9-b5fa-3998f929f899",
   "metadata": {},
   "outputs": [
    {
     "data": {
      "application/vnd.jupyter.widget-view+json": {
       "model_id": "0b05360978fd4ab9b9e8ca6e2d5b8193",
       "version_major": 2,
       "version_minor": 0
      },
      "text/plain": [
       "Map:   0%|          | 0/1762137 [00:00<?, ? examples/s]"
      ]
     },
     "metadata": {},
     "output_type": "display_data"
    }
   ],
   "source": [
    "dataset = dataset.map(get_hash)"
   ]
  },
  {
   "cell_type": "code",
   "execution_count": 71,
   "id": "ddd914c0-916c-4a67-a142-c9cbca86690c",
   "metadata": {},
   "outputs": [],
   "source": [
    "def sentence_split(examples):\n",
    "    sentences = sum([sent_tokenize(ex) for ex in examples[\"text\"]], [])\n",
    "    source = [examples[\"hash\"]] * len(sentences)\n",
    "    return {\"sentence\": sentences, \"source\": source}"
   ]
  },
  {
   "cell_type": "code",
   "execution_count": 73,
   "id": "4f380e02-d0f4-4b2a-8508-a8ae1f82f316",
   "metadata": {},
   "outputs": [
    {
     "data": {
      "application/vnd.jupyter.widget-view+json": {
       "model_id": "14f23b9dc46947a7abee3728d7d8811e",
       "version_major": 2,
       "version_minor": 0
      },
      "text/plain": [
       "Map:   0%|          | 0/1762137 [00:00<?, ? examples/s]"
      ]
     },
     "metadata": {},
     "output_type": "display_data"
    }
   ],
   "source": [
    "dataset = dataset.map(sentence_split, batched=True, remove_columns=dataset.column_names, batch_size=100)"
   ]
  },
  {
   "cell_type": "code",
   "execution_count": 74,
   "id": "48a84504-efea-4373-8d99-660c9f17c118",
   "metadata": {},
   "outputs": [
    {
     "data": {
      "text/plain": [
       "Dataset({\n",
       "    features: ['source', 'sentence'],\n",
       "    num_rows: 86034743\n",
       "})"
      ]
     },
     "execution_count": 74,
     "metadata": {},
     "output_type": "execute_result"
    }
   ],
   "source": [
    "dataset = dataset.flatten()"
   ]
  },
  {
   "cell_type": "code",
   "execution_count": 77,
   "id": "78594d0c-59ec-4502-9f10-77f0c78190bd",
   "metadata": {},
   "outputs": [],
   "source": [
    "def mentions_nation(example):\n",
    "    doc = nlp(example[\"sentence\"])\n",
    "    # Extract nationalities (NORP entities)\n",
    "    example[\"nationality\"] = [ent.text for ent in doc.ents if ent.label_ == \"NORP\"]\n",
    "    return example"
   ]
  },
  {
   "cell_type": "code",
   "execution_count": 78,
   "id": "23ecfd96-dd9e-48e6-a9ba-5517b6869138",
   "metadata": {},
   "outputs": [
    {
     "data": {
      "application/vnd.jupyter.widget-view+json": {
       "model_id": "5e83cd21f9994ff187c034c8e44ba9a4",
       "version_major": 2,
       "version_minor": 0
      },
      "text/plain": [
       "Map:   0%|          | 0/100000 [00:00<?, ? examples/s]"
      ]
     },
     "metadata": {},
     "output_type": "display_data"
    },
    {
     "data": {
      "application/vnd.jupyter.widget-view+json": {
       "model_id": "de2212417641478186b661fbfc46347f",
       "version_major": 2,
       "version_minor": 0
      },
      "text/plain": [
       "Filter:   0%|          | 0/100000 [00:00<?, ? examples/s]"
      ]
     },
     "metadata": {},
     "output_type": "display_data"
    }
   ],
   "source": [
    "dataset = dataset.shuffle(seed=42).select(range(100_000)).map(mentions_nation).filter(lambda x: len(x[\"nationality\"]))"
   ]
  },
  {
   "cell_type": "code",
   "execution_count": 81,
   "id": "9b78920a-b126-40d7-9958-5b3d9a1531e3",
   "metadata": {},
   "outputs": [],
   "source": [
    "def get_score(example):\n",
    "    pred = sentiment_task(example[\"sentence\"][:1000])[0]\n",
    "    if pred[\"label\"] == \"positive\":\n",
    "        score = pred[\"score\"]\n",
    "    elif pred[\"label\"] == \"negative\":\n",
    "        score = -pred[\"score\"]\n",
    "    else:\n",
    "        score = .0\n",
    "    example[\"score\"] = score\n",
    "    return example"
   ]
  },
  {
   "cell_type": "code",
   "execution_count": 82,
   "id": "7e92db21-a365-4b90-9a40-18a41a9d01a2",
   "metadata": {},
   "outputs": [
    {
     "data": {
      "application/vnd.jupyter.widget-view+json": {
       "model_id": "452701d0422d446dbcebf8eea2ac6bbd",
       "version_major": 2,
       "version_minor": 0
      },
      "text/plain": [
       "Map:   0%|          | 0/5945 [00:00<?, ? examples/s]"
      ]
     },
     "metadata": {},
     "output_type": "display_data"
    },
    {
     "data": {
      "application/vnd.jupyter.widget-view+json": {
       "model_id": "7bcaaf7d9e844dceaa3bf235a216e619",
       "version_major": 2,
       "version_minor": 0
      },
      "text/plain": [
       "Filter:   0%|          | 0/5945 [00:00<?, ? examples/s]"
      ]
     },
     "metadata": {},
     "output_type": "display_data"
    }
   ],
   "source": [
    "dataset = dataset.map(get_score).filter(lambda x: x[\"score\"] < 0.)"
   ]
  },
  {
   "cell_type": "code",
   "execution_count": 83,
   "id": "a3fe34a7-aed7-4b17-8e7d-aaf5c99ab388",
   "metadata": {},
   "outputs": [
    {
     "name": "stdout",
     "output_type": "stream",
     "text": [
      "indian\n",
      "ennese\n",
      "paguerre\n",
      "ultra-tory\n",
      "asphalte\n",
      "romish\n",
      "carlists\n",
      "severn\n",
      "catholic\n",
      "•hese\n",
      "bagster\n",
      "texan\n",
      "south stafford\n",
      "danish\n",
      "league\n",
      "europeans\n",
      "christians\n",
      "neapolitan\n",
      "goods\n",
      "rembrandt\n",
      "marylanders\n",
      "guards\n",
      "saviour\n",
      "siamese\n",
      "tho american\n",
      "eastern\n",
      "roman catholic\n",
      "yarmouth\n",
      "democrats\n",
      "irish\n",
      "canadian\n",
      "orange\n",
      "moplabs\n",
      "cantonese\n",
      "imperialism\n",
      "estensian\n",
      "reddish\n",
      "thuggism\n",
      "protectionists\n",
      "jew\n",
      "druggists\n",
      "tragedians\n",
      "miludi\n",
      "essex\n",
      "swiss\n",
      "trains.—american\n",
      "federalists\n",
      "teutonic\n",
      "romanists\n",
      "western\n",
      "draconian\n",
      "fenian\n",
      "babglonish\n",
      "adriatic\n",
      "americans\n",
      "calcur\n",
      "mussulmen\n",
      "danubian\n",
      "brazilian\n",
      "notiese\n",
      "kentish\n",
      "sardinian\n",
      "sabre\n",
      "unfit—(evans\n",
      "canadians\n",
      "conservatives\n",
      "dodger\n",
      "norwegian\n",
      "persian\n",
      "republican\n",
      "necauese\n",
      "parisian\n",
      "de-44\n",
      "petitioners\n",
      "royalist\n",
      "ira\n",
      "peruvian\n",
      "treasury.se\n",
      "anti-christian\n",
      "nsife\n",
      "hairdresser\n",
      "jews\n",
      "paridans\n",
      "fenians\n",
      "beans\n",
      "chartists\n",
      "mexicans\n",
      "conservative\n",
      "popish\n",
      "greek\n",
      "siberian\n",
      "italian\n",
      "pergami\n",
      "jewish\n",
      "european\n",
      "dutch\n",
      "vatairds-ef\n",
      "swede\n",
      "tories\n",
      "visans\n",
      "southerners\n",
      "-4hoseshef.cl'eeuvrestliese\n",
      "eetg\n",
      "confederates\n",
      "the'deek\n",
      "german\n",
      "jesuit\n",
      "pans\n",
      "ballarat\n",
      "russian\n",
      "parisians\n",
      "protestants\n",
      "genoese\n",
      "vulcan\n",
      "caledonians\n",
      "protestant\n",
      "north british\n",
      "fiendish\n",
      "un-english\n",
      "spanish\n",
      "protestantism\n",
      "fires\n",
      "killedi\n",
      "portuguese\n",
      "southern\n",
      "fordyce\n",
      "coroner\n",
      "thewestphalian\n",
      "rhenish\n",
      "eddy\n",
      "swedish\n",
      "virginians\n",
      "beasts\n",
      "chinese\n",
      "ire\n",
      "cmdenian\n",
      "north german\n",
      "criristian\n",
      "republicans\n",
      "indians\n",
      "iey\n",
      "corruptionists\n",
      "ferocious assaults.—samuei roberts\n",
      "circassians\n",
      "airglians\n",
      "belgians\n",
      "carlist\n",
      "roman\n",
      "prece•\n",
      "tharandt\n",
      "mussulmans\n",
      "austrians\n",
      "venetian\n",
      "bouies\n",
      "arab\n",
      "impugn\n",
      "roman catholics\n",
      "engquite\n",
      "tory\n",
      "russians\n",
      "english\n",
      "democrat\n",
      "democratic\n",
      "candians\n",
      "thugs\n",
      "american\n",
      "constitaameyl\n",
      "intimida•\n",
      "igo\n",
      "burmese\n",
      "utopian\n",
      "irishman\n",
      "belgian\n",
      "south american\n",
      "posenese\n",
      "tunisian\n",
      "south african\n",
      "servian\n",
      "british\n",
      "conser'atine\n",
      "parliameo\n",
      "ff.r di nand\n",
      "a roman\n",
      "egyptian\n",
      "cornm\n",
      "corntrade\n",
      "prussian\n",
      "poles\n",
      "asiatic\n",
      "ilendon\n",
      "communist\n",
      "custom\n",
      "germans\n",
      "neopnlican\n",
      "blamerican\n",
      "cnithusiarttic\n",
      "ottoman\n",
      "anti-italian\n",
      "cuban\n",
      "rursian\n",
      "• spanish\n",
      "physicians\n",
      "british colonists\n",
      "appetite\n",
      "muscovites\n",
      "sicilian\n",
      "•\n",
      "chartist\n",
      "ttiese\n",
      "christian\n",
      "rumans\n",
      "georgian\n",
      "propontis\n",
      "haylofts\n",
      "turkish\n",
      "baptist\n",
      "turcoman\n",
      "the roman catholics\n",
      "serialist\n",
      "manner.=\n",
      "hou3o\n",
      "mayan\n",
      "west indian\n",
      "jingoism\n",
      "african\n",
      "arabs\n",
      "embankment\n",
      "mexican\n",
      "crimean\n",
      "milton\n",
      "independents\n",
      "dc\n",
      "geese\n",
      "polish\n",
      "austrian\n",
      "retort\n",
      "laforgue\n",
      "a.\n",
      "liberals\n",
      "marine\n",
      "accidental\n",
      "muscovite\n",
      "hungarians\n",
      "neapolitans\n",
      "pyrenees\n",
      "afghans\n",
      "bavarians\n",
      "st. albans\n",
      "♦\n",
      "royalists\n",
      "cornwall\n",
      "spartan\n",
      "praxiteles\n",
      "rory\n",
      "lament\n",
      "piedmontese\n",
      "politieans\n",
      "scotch\n",
      "r.\n",
      "paraguayans\n",
      "jalapa\n",
      "frenchman\n",
      "constitutionalists\n",
      "spaniards\n",
      "prussians\n",
      "heath\n",
      "ruffians\n",
      "liverpoorpaperi\n",
      "d.\n",
      "turks\n",
      "baptists\n",
      "hungarian\n",
      "changkol\n",
      "english tories\n",
      "australian\n",
      "catholics\n",
      "000fi\n",
      "french\n",
      "conservatism\n",
      "northern\n",
      "silistria\n",
      "malthusian\n",
      "e.f\n",
      "christianity\n",
      "pedestrian\n"
     ]
    }
   ],
   "source": [
    "keywords = set()\n",
    "for n in dataset[\"nationality\"]:\n",
    "    lower = [x.lower() for x in n]\n",
    "    keywords.update(lower)\n",
    "for k in keywords:\n",
    "    print(k)"
   ]
  },
  {
   "cell_type": "code",
   "execution_count": 84,
   "id": "27f7981f-82da-4d86-8d06-b3640ed41c31",
   "metadata": {},
   "outputs": [],
   "source": [
    "with open(\"keywords.txt\", \"w\") as fout:\n",
    "    for k in keywords:\n",
    "        fout.write(k+\"\\n\")"
   ]
  },
  {
   "cell_type": "code",
   "execution_count": 85,
   "id": "4bb161d3-e2e6-4268-aae6-8dfd02331575",
   "metadata": {},
   "outputs": [
    {
     "data": {
      "application/vnd.jupyter.widget-view+json": {
       "model_id": "82c8bea7ac5b4a8cbb67ec15b3f4e5f5",
       "version_major": 2,
       "version_minor": 0
      },
      "text/plain": [
       "Filter:   0%|          | 0/761 [00:00<?, ? examples/s]"
      ]
     },
     "metadata": {},
     "output_type": "display_data"
    },
    {
     "name": "stdout",
     "output_type": "stream",
     "text": [
      "{'source': ['42c88694a3153aa7', '41e6a752a8512699', '9e3ea40acb9a7327', '101297bbb7d6874a', '16844b73058885ea', 'fed60f347f903d41', '9b7ceaecd5d78331', 'd59f90b28de32146', 'cbfaca017dfd0ca6', '6514324b156b822d', '507b7d263a6f2080', '76ac609c345605d5', '3bc91ce9ece667df', '93067682e96bbb76', 'e80373543e16c8d2', 'f3716c5d2f5e87ce', '742ef75ed8ee2bd9', '57f71ebf36bc9e0d', 'dfdc5b4833c3b833', 'da8db862876b969c', '0f16753cc09ebb9c', 'b1885518e5821edd', '498233f9564d56b5', 'ea7db90c84fd14f3', 'd2c11a4f887566f3', '42e9f86a9437fe85', 'e570580aeefde443', '0d103953c9fcb467', '759bdd20fcd741cf', 'e746a0f184e4a20d', '6726e8398cd3fc03', '62d4651e1e2152c2', '279dbd770dfe7caa', '677e7c6dc7fbee86', '299a4cbd79362217', 'cca49886a9a96b44', 'bfcedc9cf5fa3acd', '6de12dfdffe02cfd', '6e2b5cea58baa0c0', 'aa7e7a95d17a10c5', 'fe2a3aba2fc34273', 'cb3aa922c76871e6', 'ff7aec207cbbaa61', 'adc4f4ecaf3f1653', '9cc32bc0ab11410f', 'ce345c93a0b9bc6b', '47a4ca3328d0c384', '38fdffdc9b8a0ebc', '27a56425b84122b6', 'f7274282fff75e36', '636a40e85693646f', '4ffc21c4bdf63ccc', '74765a484ab908f0', '8736dfe696f829bb', '15390353c42151b8', '885429c770f98c47', 'f5449c4d568a3787', '0a754670b1b1eaf6', 'b08b38f4b3b7a764', '5132a10c9ec52b53', 'a112aa210d4adf56', '6241c0b25c02dde7', 'e48f918c09735ca9', 'eacc10c8efe8170b', '7180c3c30448b53c', '8d173353f3af80bb', 'f76029cbaa06acd1', '9818c37de4b023a7', '21b07fac706ccfbc', '93696a7453129d54', 'fe07077b59312141', 'c15c78fefdc05571', 'f9f3dd5b0981dc71', '0cf0122ca40a1d50', '330dd8f26d802514', 'f7b778b9feb61625', 'e9691b0866aa1dd4', 'ad53441c73d1d501', '9cacd9805652e957', 'f1161696bd025c81', '41c9ac12530a31b4', '491240c845f232d4', 'f24166ed2621b454', '8e1b30796576a13b', '2f8a2a395c3b838c', 'd1f549e1ec68df9b', '43f71e01ef5f8126', '4e9b511125df237d', '1a0b45eb006194a1', '02fdc3c44c4a77bb', '63fbb02016ab0b1c', 'f0e7a7d23c91ea7e', '67eb308df4626578', 'b8da2c8b61a85b93', 'e8b65430c298b0ee', 'c139bf6ceae24b3a', '75a38f422a7cc788', '931f8d1cdc495647', '77414751d2a61b3d', '0ae11a761dcb8424'], 'sentence': 'A thoroughly French tragedy has just taken place here.', 'nationality': ['French'], 'score': -0.9096136689186096}\n",
      "{'source': ['fefcdfd13021508c', '1657d61171a1e487', '71b51a3c0d4574ae', '6c731f4f94715533', '4a00a62d080fb994', 'e1252f3f5dc0a02e', '3ff0e4f4e6b10f04', '43099bdeb0a6e475', 'f3ba0cd14b76b16e', '560ef8ee383dac6a', 'e2c42b9aa8edcec5', 'f0141e88cd8cd1fa', '959bc0a52dc0adb4', '6a8fcb111347efc5', '3dd67ff386033143', 'b598b69a695c7bb9', '52460b41a4837564', '97ae26c6f819eef1', 'b60fcd080328a360', '83f6b53566a19f98', 'b7c068bc60f493b0', 'bbdfc94209853208', '6c731f4f94715533', 'df7e80b8511f5089', '0ada117cbaa75dc4', '61b2ac89d475d0ce', '8cd1d9b21567a37d', '1ff0ba15b713b36f', 'cb1766903bcb6290', 'f06dbe54df1cb5c4', '6c058aa85cb0135e', '2c9b1332bfb3506e', '46080c245a7eced8', 'd419cf80af9991e8', '80c8277a13afe90f', '9c47fba0e300c685', '00a820ae418a847e', '39dc3c7dca8898cc', '5ef0d6efded5c575', '717a9930fb99af94', 'a08dd2d1e41febc3', '1ad43e7c2db5b040', '1e0e93dcb80536a3', '8fee49cd20f8ce0c', 'dd8b69c8b4ccf7f8', '539e3351675946df', '0bcb1022e0159947', '154dd3bb1f2849a2', 'dbf0b915e48ed532', '744ce2b6816cf2a7', '9c111c929c56dcd5', '4e11022843b300bb', '783bb20dcef7a181', 'ddce93744c0c3c82', 'd1101ea9b28cfd2f', 'ef2f66f6fa22057d', '7233e8acccd3d116', 'b4529ee964ab8556', '7fb7e3632566b516', 'e1ac4f9bc94cdea8', '13c9fc6e9fbca85f', '6959e854bcb2fe7a', '8f7ac60c6316dd51', '1b30af7a2d26cb81', '7e5333980fc17fb1', '4f9c829f328b62a0', 'fd82dbedfb10ca28', 'dc985d8a9a2c1b5c', '8f4b5766d1a7bcf2', '1c5063897d00c8ea', '7863367c3454ec2b', 'a3cfd51505df17fc', 'dcfd9312d99a9089', '9114a59937b08aee', 'f516ce9cc363ef4c', '2fe821b9876b2c34', 'aace91899448f1f3', '87b504df1ac11487', 'd9eb047a80bf8a04', 'b18a983401885934', 'b5f62a3a58e7b4ae', '52ea75730f71655d', 'fbd1f2defcac9a00', '7a7d42137610b744', 'a53d78cb67647485', '3eadc03034c6f65c', 'f94415d20ad853b8', '833e413a70f15f08', 'd5d4fdd738a0ad00', '99eb3b173d6332f2', 'fb9fc334c661e89a', 'a02153b7b6c7e34f', 'c3f33b7dba5167ab', '9d08951d1b6cdabe', 'a49106d4e745da80', '3fc90e76b09cf31e', 'ebc6552094ef7605', '4e72c02fdc9a01ee', '6a97dcae7aa5cdd5', '2ae743f339c1c0ca'], 'sentence': 'Others aver that the sufferings inflicted were grossly exaggerated, and the Bavarians destroyed the place because the people killed their wounded.', 'nationality': ['Bavarians'], 'score': -0.9123961925506592}\n",
      "{'source': ['7405945c0e04256c', '2bbecd3ce7a1e332', 'e8e2bfb9088b7dec', '1e20fa5c6b7ee7b0', 'f874d718f2a7a06a', 'c8fa89a1e4fa20d9', 'd5fe5b67bb5ef1fa', '3569626d39c5d716', '7460aa47aa3ffebc', '93e707e393730e0f', '00b58b986a9f1eeb', '2c8e11f52bd9aef1', '70a98c02067709e9', '89c0d97fe13fe7e7', 'f675e4b3bf306fab', 'bc6fdbae42322d25', 'e5b92feeae75c79a', '1a599ec7b88e8754', 'd657346f4b1b586f', '9baf1c5861255618', '13e8b50dde3efe3a', 'f3c229e0c818acdc', '3505af11d40b82a3', '076c0d51698c843b', '7ab33a736f2f2c58', '7dfdb3bb17394b24', '7e1a5e0a6a6fb8c9', '23617ee0774dcc0f', '4fface5ec51c2646', '7fdca686b46a1288', '7496d8c2ad4050ee', '3ec198d727fb54b2', 'f42ae5c9f457452d', '6d7ebc44c5bc2620', '84f1b0652e82dc51', '61d78ebd8d984d74', '6d7ebc44c5bc2620', '3ef3187f920df082', 'add943441e169b4f', 'b8d17dbb7a465a1a', '4c46724e6f6d3782', '6fd9a9a59ce35825', '152a354822c47488', '8a35bf0dcf488724', '7df9b41cb3273fee', '4a434de69252132f', '6fdf590612261a9a', 'a3a1d7ff3720f232', '301a1e901912aee2', '31f7e71e2135919c', '071b33cd40cd409f', '3fd48804ebb8da51', 'c2c8c62af0212f48', '8e5fc95eaf3da4df', '62e7bfac08dbcd10', '1315f4624b4b5368', 'c792508256fb0a2d', '5ecc6001a5232098', 'cd3f32f98d659338', 'd7a39b656ca1d23f', 'ad12cb083d94b111', '9c18377520b3523b', '17e4b8282e373ee9', '1df569a40d4de3a3', 'd31997f815e2c174', '200793bbb218e805', '728983c0f04dd658', '75e0ec0fc1da3024', '59725e4eb651529a', '8e695a1671560dd0', '99397b508dad5547', '01ed5e97d288149a', '7062c0dcd502ab26', '03832e2b60c056a8', '4b613827483d0d99', '643e34164f269fc4', '947e2aaa79929cc7', '751a3effa3a42b69', '9207122a3ecedde2', 'b518e353b2fe2395', 'f64dfb4f3af3e99e', 'c3635c0f7ec21e22', 'baea5ec09027fce2', '6829a5ab2215a725', '4759a437828cdd01', '7934a289066b51a7', 'c361c4eebc92d586', '33a6c0f0d7966306', '0e5b376e1a439eed', '7338253b5d0d3374', '005882b3bab6b85f', '6401231ad9b6f5c5', '955784105c56986d', '42c4e25b687b802f', '76bd366c53dbcfae', '674acada16fed248', '13f1f629b303f571', '266e49ad19a64c98', '5fba2cb12d75d05a', 'c588e47059c3ce3d'], 'sentence': 'The paper on \"French Dramatists \" is very uninteresting, and is only a compilation.', 'nationality': ['French'], 'score': -0.9050279259681702}\n",
      "{'source': ['a4cc75aa5f189025', 'bedd884db15371c8', 'fc8d6de70b58356b', 'caeda757d40edb7b', '15c7cbd1ed43ea36', '2e109ac3ac17536e', '1c89b3d23187f7ce', '8cab24a234111dca', '894038f9f8cd760a', '63fd37bb09e2f62e', 'dde11e29ac15c1bb', '02fd58e89fba23b0', '3221e1b26ad5a6f5', 'd08c5f95ebb8581e', '7e64befb3f7ac459', '078045861aadcc5c', '613b04dfdeab2e1d', '19197386f7f74672', '9a9e384d65c8420b', 'bca94b342b8b0a33', '24b2ca8b2d0edcd6', '47eff0710c593ab6', 'a0bd2a118e81d1c5', 'a03fab69670f4207', '51b9c82b7d30aa48', 'c106fb60ec10e3b3', '682c58cda2236e57', 'ea5b51e66813afd1', '71e224fe780cba8c', 'ba19e7e4661a9d11', '583134c0a3b51ba6', 'b7886eeba6d53912', 'cbc30d6a8ea8b809', '798760192aed3ec1', '1d9aabcd1afdbcff', '56e263fd1b4e65e9', '69cfb24ea6cb1fc2', '618f4456939adcd5', '27b306bd7ecf11b6', 'fceaa466beff40cb', '068db6642ad5965b', '36ac663ba4e6e149', '84354e7490a4a85b', 'd4ec3382174a8a91', '9b97a9a5922cb656', '149a166e28e33745', 'a2a51ed67cd93c93', 'ec3a87cee85bdb16', '0a3eb601328aeefe', '6b8e4ce85e7d6ad6', '8b355889b1c06bf1', 'dd6d9b3ace899ae3', 'b7073ba7819d4781', '34ecef7856c68a07', '8b75c3498a955269', 'd73939182e497184', 'e064efec87064b0a', '86b1a4b844187df4', 'd65fb8f1262dc959', '245a7157c3254dc5', '5f0ff435fe1db81a', '9a9038b6e39c81cb', '5a209c8122faf54d', '9aaa967fe712bd14', 'b53b22bfdbc11019', 'a66c078e53e524d6', '5734a9252dffd763', 'a48e957240e4deb1', 'aac0049326a93684', 'e1fb82e4159d206a', '80fdff9a26a58b5a', 'fe1b8becd9cd3741', 'eb9a4836e52afa3c', 'ce0b70cad10fabc8', '43f50afba59e3a8a', 'c19effa4e5781b73', 'ed3e62a4ca0b818d', '049d1294cc9fa61d', 'ce94ae50b71a3360', 'd6fcded765d6217a', '3a96b689db644cff', '2d2305a004a12971', '5b59d944542a3ec9', '3667890efbfbe1eb', '4f1c6d090d00a691', '0a544a7d7428d968', '5acffdb69fb1a92b', 'daf739cc9aa83942', '3372ede296070b4f', '310450de59dc6318', '5f804d23e20534cb', '807108e1b87a745b', '93e1a7e066348c9d', '86174e7080490a6a', '1d462e09992e09fe', '9c5b64e2def02962', 'a567cef3af957a3d', '3b21097fde0816b9', 'cc619bfb42e40ec1', 'b91fe4c1630bd58e'], 'sentence': \"Why have we not rescued poor Italy from the Austrians, miserable Greece from 'the' Turks, and unhappy Poland from the Russians ?\", 'nationality': ['Austrians', 'Turks', 'Russians'], 'score': -0.9206364154815674}\n",
      "{'source': ['71c8f7df9a3402e1', '94ccd18749d4ecf4', '3ef9ff4c9b9029c4', 'e6d42cd37ac30448', 'bfe3edcb40b831b9', '76114a6e0392848c', '683463fb52e696b2', 'ca98f79b38ab5d18', 'a5db2812a88c250b', 'cdba84f0ea1d131b', '143b44634aaf0d89', '76e66b0af1d464f0', '4c80ee5b2e17a19f', 'a459ebcec3da8614', 'c3ff80b24f518eee', '87ba8ecb8a0e05e4', 'bd8df6e069d7b11f', '444ac1b76201dd0b', '52208be1a271115c', '9fcbed6b568845c8', 'd9581bc574b53e15', '659af4ab2a7dee47', '68144aed0b998eaa', 'f760110709f36920', 'd3718d38ef7a65c9', '2c62b47435304141', 'e23bc447e0be4df6', 'aae5ecc5ff06ac7d', '289fac1bdbfb6bf7', '470ddabaa366846b', '1d3483b2828e6685', 'b7f25cab0d1b24ef', 'c35665eea78121fd', 'de874bf02b39177b', '4760e02121a22185', '392713070ca42a40', '5a0b1178e63d6fdf', '5e6719f900f5a441', 'f4402c552e3b828b', 'a967caa30b197fc9', 'c1d157dcaad78f52', '8806200f9c89e35a', '8cc4ea6f1fee2455', '46989c34741873d5', 'c974a21373fb022d', 'e4afe1f0d136449d', '81eb4242c2723c99', '12a6fb5952c7571d', 'cfce5c19200e8781', '67ca8d076825b5ca', '1b099e69ac51757f', '2258bda92e702e8f', '023556a57daf5259', 'cb65cfd4ac36c7e6', 'ee540ad2d56d1451', 'abbf5a0f1a06974f', '5d7237884302bd68', 'cfc0ee50d42af3d7', '9b81e564b86b31c3', '9a6c44f3c38bdec4', 'de6eec6ea12b49b3', 'a2e12a2ede9c97db', 'f4fda46d7d9bd04d', '0e7067e19a5057c6', 'ecef7c8b43ea424c', 'b5b97c41308e1945', '0ee2a6bcea166e45', '760404161acafd5c', 'b57572446abdc6ee', '93ffd5751cba4084', '7f97beef2b750f69', '0de8db81ed8687bf', '061d0f8f4816e801', 'cb2ef89c03d6b4f2', 'f56e073fad9bb73b', '55e5656103122a46', '437a7cdce3abd80a', 'a04bf8cf435b3f7e', 'e695b5e8433a2c73', 'c38c8cfdc375aa53', '69931a0b5c07f748', '6880cb6814ac5772', 'fb8c5f3d4b270b46', '9ca50ab9b3e3e085', '7035993ed5570c0e', '0bd9dd2d17230f78', '090dbc9b78f96d10', 'ac61e67e54564f33', 'fdb2411ce6923470', 'cfe32a102136caf3', '02ed0f07a7093d20', '0ec9245a557311ee', 'c96b7cac80c96d59', '1eebec33a6792810', 'edd1623efa3e7863', '3290eaefee27fdef', '851445a71457e54e', '4acc874ddfa34860', '91f23c5e2d969604', '5bec1c6e22c34edc'], 'sentence': 'We have now to state, that this has been the most appalling disaster that has occurred on our coast since the shipwreck of the British sloop of war at Southlitupton, Long Island, during the war, we believe in 1813, when 108 peisons perished.', 'nationality': ['British'], 'score': -0.9240450859069824}\n",
      "{'source': ['fb33e868017bbc60', '54b56cbbe3cc8f61', 'd28f5efa0c4efe18', 'fe9b9dcdf60068c5', '52838043072ad435', '0cfd126c03c71d61', '0fa06c66d9de710a', '385d00a34d69bbfe', '7fdca686b46a1288', 'be5abadc855443b3', 'ab4a1e89ac18ada4', '36cb37f28a8ce4cc', '2fc677ad9b37efa8', 'b0ce6b34690fb8af', 'af1c4ae4bcada48a', '68ca3fba3b7e8647', '3fd0fdf17140abbe', 'cd165b4d1b69c582', '14de5cd8393e4d7e', '9d5b86f8fdeb7be4', 'db5e25eeddbfbe70', '48d0b9c44a199a3a', '1a252402972f6057', '0295ad96ce051880', '04f34e09518a160b', 'f953a3e4b0b80953', '1af6c29594bc4b06', '164be7bb398c0cd8', 'e1c1097b8266f7b9', 'a9db4d444a9402c2', 'f6fe662b4d63b999', '3fe91b15bda005ea', '510899efb5340570', '5e867b5204b53e26', '04515154135f1739', '3367c854d8f87536', '9730875e6753edbc', 'aa1881ba54485b88', '5d42117c47c8e0b4', 'ce43a8fe4e84dd6d', '70c6bcc0f8b72d40', '05ece9e8991053b2', '54008b07aef531b7', '645e7eef18c846f4', '5aa9160df721ae6e', '7b2660a9bcb15690', 'b32c8254c94997df', '75b1e0fdfb225136', 'f1622f40992216ee', 'e7a4c85a76c91d7c', 'edb011cd9a958b5e', '930956d9f6ea90a5', '62e57b9239535c88', '73f6c8dea2fd89a4', '6a3164b30744743a', '36c5a1f25ad25ab9', 'cb5e59f3ab45e3f4', 'a9f0754720868060', 'af0a9e3ab4a7b3c5', '5b148f1d46d49e7a', 'af893e13a66a4b42', '3edf6dc27c128e58', 'dbc6253cb7ac35c9', 'fd54fe1240d26317', 'be3aefac8d6a2d24', '23a6526ce566cadb', '438b85538d5c32a1', 'cdc96fbf533eef9d', '7fdca686b46a1288', '147fd3ed6c753caa', '97648d6e564be398', '03e7e7cf74b46376', '901c7117e795da64', '4355a46b19d348dc', 'f6e1ad29f9a3bc6a', 'c56d11a32e95e797', 'a38a29093684d3b8', 'd3775b506093e6a5', '75fd86f96725d289', '8c83325235706588', '9a70929c7d50dba0', 'c1e37988252a93f7', '9811dab95cd12d04', '400876e363e2f803', 'a9308157d64d025a', '86d384733e6d4d3b', 'b079538f1473fd82', '31c24afe40026c3e', '483b156b5a51cf01', 'f5fb18dee5b6e94a', 'e7c8342ec8f15a44', '12465330ee126452', 'c42a2755648f8c45', 'be3f8cb36e3b0935', 'd7db466f49c8e1e7', '9906548085f2116b', '2f9087931d613cd5', '6ddfdde51d2dee53', 'd14613123f1344d8', '200b569c65fe25f7'], 'sentence': \"The poor fellow was attacked by three ruffians, who, after brutally 'Busing him, threw him into a pond hole.\", 'nationality': ['ruffians'], 'score': -0.9265431761741638}\n",
      "{'source': ['f54187d7014f8b03', '8da42cea9c4d861c', 'e0aa7d7c0e539dab', 'ebf1de48fc55423f', 'fc73349a3f8e5cec', '35090527c8e9605e', 'dd7740b2f48a9b2f', 'eaf7d1daa1e0f04c', 'ff2329344c6183c6', 'd17d88bb8237c60d', '4647121fd1d13ca5', 'b02cee466b676bdf', 'c3e753e4d25e920b', '2d961c859c88638c', '6cefe338973825ef', 'e40b3c8cb6d9630d', '744b508c7bcf7cad', 'b37dcb0d28d5f3e4', '7382d710faea82a7', '431f99751dc895e9', '0436c34a72d0d9e0', '4e5738cba92d6358', 'cad0bf9e1ab0fe4f', '7cf94a442896d100', 'f14ac708a9987a33', 'd39d7ff3dab63d6d', 'e4cd148421e6f3ab', 'c45022c121ee9d5b', '4ae535f1078bde97', 'a6a0b458d5c43213', 'b8a24876ea4a9108', 'a31a497780782085', '679ed52ea2efed30', 'da3a5c287da5e793', '02bb7c7c27edd31a', '8f9ca9aa1263a82b', '1f5787094bffacbb', '57a2de3a665509ba', '13a5dd111af915ab', 'a85b06057d8a9ae7', '29f2fa6cdcd9c84a', '911f14ed1f9e090f', '831a35f7e41e4fa5', '24459beb9c62c5f1', 'a2a0b44ec9b6cc7a', 'dd8c491f8a744681', 'c60e9736d7526207', '07176197e6c02234', 'd73e3ea8044e05a4', '0c0c97796bccc08e', 'ff88b591070c9052', '7e8683f9059312e4', '41661ee9c219ce55', '11c90566fee75f57', '1834f0efa8012d24', '522c66ddfe90c395', 'a0ea6da5e91cd7f9', 'fe390a22cb91faea', '5ab994d658c3e81d', '38d9bc7718b6223b', '6f6a027b4e6570f7', 'f1d5740b92e3ef81', 'bea973bc7104fb7e', 'e9b1fdc907480520', '194912e7138255cc', '78ad958d02727063', '687f33d2dec0c792', 'e72833ea2a152828', 'a13420c430e5327d', 'eb3463bae1432dc0', 'a35ce7105333540f', 'f8132f58b33d6506', '55bfbd37fa4562d2', '61e93b9109582ff5', '471c52e83be5f49e', 'cca88f1906c95c61', 'f9e8148474437b00', 'd0c3af314ccdb2c6', '66deb24b6f458896', 'b11fcc3e7ee2f656', '262297e352c9a7ff', 'cf68bccc28591d8c', 'ad29f38a79bb489d', 'a78bff491f88800c', 'cead73644581405a', 'b85bdfc1efe9bf10', '161699c9d3304d51', 'fba11b0d98367ba2', '2200323743fbb2ab', '8680f6ae2e68d2a8', 'fb947545bc93f6f6', 'f672f16331c6cd63', 'c0338e0a67a0788b', '7205cf014a53698c', 'b40fe9258cdf71ff', 'ad8eb958c5b85170', '72a0a9b21e310cf3', 'c6b9f260470aeb67', '50b75d9237db2c69', 'fe90ac01deaefa39'], 'sentence': 'As the leader of the Tories he is the spawn of corruption.', 'nationality': ['Tories'], 'score': -0.9212680459022522}\n",
      "{'source': ['740e7e2d265bf882', 'd61063b19910d53d', 'f87defbf8696c7ea', '523b306b1fc345ee', 'e12f88cb5c85191c', 'dac7a2989e436e92', 'bfe7dec90da56e13', 'a3d59780bd8f49e7', 'fc66f8a68cc9eab9', '35a063115b251a4c', '4b4012b9867c1788', 'a8ee1456bf383096', '6aa87e78350101b4', '00586fa127b70bb6', 'd521f5c40681b4e9', 'd4b9fd8d12baf6af', '4355a46b19d348dc', '180d5c8a2c936362', '6b01001036aeef61', '072d94117811a6a2', '3697a64fcd5b6d7e', '896bba146bae82cf', '43a462cd2753593d', 'e14d866bb570602d', '8644e6e9122da013', '48692da84a05713f', 'ec595538bbccac09', '8d2113c94b8e9887', '35116ded411242c9', '8bfb1d611a4337f1', '48ac2dcd1cff75cb', '25bdf61e49479137', '668b18a5eb044564', 'f81cdcb7842994f8', '25d4f2a86deb5e25', '61f29c837c2660db', '9dc1e438bd311048', '7033a0c60cacf483', '30d7aee4ca09f122', 'bf514051c7c01667', '9c1831178a9e3369', 'e4cae6b09ebb94f0', 'a00c3b59d5e9e2d8', 'e0bc579a84fb7705', '0d30a47b87915d4d', 'cf816a2128edd659', '44be6dd29ec015e8', 'd7d0d3284c8c7984', '64fc3481f3abfe71', '96f39b58e98710b1', '7fdca686b46a1288', '520d50c969d829b7', 'bd6cd9a95c5a8714', 'cb8af64d3cff7247', 'f9554e289e1c4bf4', 'da5ed463855d8bec', '225088f67854f3d2', '87e54b4e29d41388', '029f1276dac4887c', '0b078399caf7cb95', '28759d372e9617e4', '1792168d23c6d98f', 'ae72f55e1f1f2688', '51c489cb4e8ac46d', 'bf8561628b4b0e29', '42fddac375e88667', 'cbc80bb5c0c0f894', 'a25bd4935b19b0dd', '872f2f8663b9e9b6', '38659633e599de48', '61a9dfb7b7c0c1c8', 'bf4c71c6c6ab4166', 'ec81ed938de0c186', '89b749987407bc00', '48f6d6bf2e0a8fbc', '0befd07b485f7e97', 'def9224ca651574e', 'f621d1f13edf664e', '200f70520183f7cd', '50c393f158c3de2d', '5a0bfa0da3855b2b', 'eb4bd64f7014f7d4', '06f961b802bc46ee', '8e54b0ca18020275', 'c05ddd4195e27378', 'f421b791c042cc74', '44af852cd310337a', '6775cc4eae9eba6d', 'ca69a4bd66560aaf', '59a758e08a39b353', '82e1ff39e8c4d66b', '68653e8e30463c4d', '93687877b51075d6', '69b3ab2ffec816d1', 'a54e4171569296be', 'ba4348b48083d503', '02870a74992ca626', 'c5cbb4420d0c83dd', '153db5f049a22f75', '703153525a6a81b0'], 'sentence': \"Many of you have been put to the torture of the sabre and the truncheon ; your amiable wives and innocent children have been inhumanly butchered by the cowardly hands of those who ought to have been their guardians' and protectors ; myself and nine others have been incarcerated in solitary dungeons, and exhibited through your County, under a military escort, in order to draw the public attention from the infamous, dastardly, and cowardly acts of the cold-blooded villains, who instigated the ruffians to butcher peaceable and unarmed men, women, and children.\", 'nationality': ['ruffians'], 'score': -0.9249299764633179}\n",
      "{'source': ['5ea1dd9118e3b169', 'b932b751c292e4d0', 'b9e8e4a018c7f8de', '4cbcaeac3483e6e0', '9bd07811ec71f0ac', '44b6f704a4cd2c6c', '9ba9ae8ed3ea01d1', 'd93f651c3f33c1cc', 'e989527b6b54494b', 'a60d1b258a3460ad', 'eb83d16523e12ca8', 'd4f8613b10eba57e', '6b4544c7c85b871c', '484e4a7e61a669b0', '7725116421d9baa1', '4f9404633d303e30', 'ceca81a249cff6bc', 'ef1f6d7a4348088f', '73026ceaf0b4fd2a', '78e9177e5872da58', 'babe80a90c7b2582', '866bec9a8c496837', 'c58800c0ab501f61', 'f86844cbe16d2665', '0594006b86e6a518', 'a0bc0bb76053d388', '144eed5f81b6a898', '6801ed1091c15913', '68996c455db092f1', '74da9cb8e30ee9c7', 'db98ef2075fe59ec', '6865262fd3e458c1', '3a5bd083ff2fc468', 'd4a0eadb57426403', '1461a72d9d6a6351', '89cdc2a0f85270c2', 'f44e99eaf8c2b314', 'ccae5f9ee0095d2b', '0b8a1aa451f2c2ec', 'cc0a10d688d3f20d', '05adb80dff5c65c5', 'c3040d1b6fd8b8b3', '963c4b04374d645e', 'fbcdce8b42152538', '311af10ad8ce4c49', '9581d76c5a2f9610', 'cd07349915b91ca3', 'a3259466ca28cd2e', 'd097b2972f734637', '070900d9a8412976', '0377a32056ff3750', 'c071583e7496515d', '433cd0bd8c164a86', '1283abfeda2454d1', 'e562fd009c710a2b', '1f1f52b34c3585ad', 'db80ea5df6f56fb5', '228971fa3393ac19', 'd4edc92679c7ebc1', 'a8f8eb5f68096cc0', '6896d9555e94c41e', '5b7f270eb75c8ea9', '183baad471bcb221', 'f5135e4ac4b5afc4', '6be69f9e07ee9ee9', 'c3664ee00b3b0bde', '319757e03fe38f3d', '2c76c1739421b0a2', '31fecccd6175845d', 'a2d0c818cde9ab58', '47b350ebe0940beb', 'e895fa753b15efa3', '52ad530e19192ad5', 'eb41eb9b5201d7f6', 'f483847d4fe85d44', 'fb10555be45de09d', '166113803647b2ed', '41efb2a83d070af4', 'e9f7843e62bd79b1', '869fe7af892e414e', 'f8a05de959095f08', '49a74011ef9c227b', 'a8185059c7a6ad39', '40fa34a0cb4b3241', 'bf9ded42d26d4459', '4f824ac2c33e55e2', '75ac27db79793375', '6a01f248fc4a9bb1', 'b9870d82c0e97870', 'b34eed938ac5f448', '4d01144fe30b7c65', '6db188d4cb6c66e5', '693dc0212c26566a', '4dcecfacc97f696a', '271e598a9d821c10', '6be23640f873c9dc', '85b9f0a7e61b9f25', '6dfba8e1dc25d17d', '075b968bb695bd1f', 'd591472201e68ff1'], 'sentence': 'Then the victors will be saddled with their own war-costs, and the over-taxed German people will find the investment of Paris to have turned-out a very bad one for themselves.', 'nationality': ['German'], 'score': -0.9011890888214111}\n",
      "{'source': ['886c5dda020caa38', '00089188da336b03', '4d2e01dab6c05b58', '462b725a896276be', '6546be33a04c3aa9', '957cb06cc7df141b', '66e17aac2070d652', '633b4d71d5dde568', '27cfd98d959a9df7', 'e9e744dffcad5290', '48db2b15194eb2c1', '6b2346b47bec391e', '95c848bee6565c4b', '7163f6bd0710b185', '4f452b0f05f63631', '0955d10255793c40', '47a0476576f32d2c', '742de668b9081265', '9db9cb98771544cd', '7a4525fca1b51f14', '13f1661c1bc72c6f', 'a3b98469ffac6393', '479af095c0f72e5e', 'fea79cb953759d46', 'c15c4e87b7091024', '77e9bc80243e61e3', 'e1c3fa1a5425b798', '59a8c66f700442a7', '1c80e217bd818583', '1c71277751421ee8', '8ea223cea75e23ce', 'e3c8175496d03bee', '51abea01cd915079', 'ac8c0f0f4eb7ff5e', '64aeb9975f234bec', 'a8d8dd9bcf13ce48', '2e797fb63e4ebfe1', 'cdd2f6a9180e4608', 'cce8a0ec88adb69e', '62796d011e40752e', '2936af52d9210d19', '52fb9b0a29411f6a', 'e3ffbe86a54406b1', 'bab378f5a4f4a5d3', 'ce359e87c9061f1d', '8daec79e6d122270', 'f61b5b2eda05b83b', 'b2288edfdd6a153b', '6047929214505ac5', 'e281e097a09bb0a7', '1b9463a0fff9e38a', 'de8a9971eef5ca85', '6b324a8156865e0c', 'da373fc790a9613a', '6cddf1f009c771d4', '20b8f6c40c784d74', '31791d233b51f39b', '24081343ef8433c2', '43cf25c1cb68ae5f', '81152ce7525fb417', '2926663e327d7e9b', '524a5d9d1cd0b5c3', '9d5aa0fae158f1dc', 'fb81916b7df2c453', 'bdce81ef4ac2b310', 'ff35945a1a522eb8', '7cf5df8b9687af74', 'ea57138d2a130039', '7a95d9781197e556', '47081fa6684833ea', 'a6b5aeb2f8d16d23', '1c680cf057693590', '39892bf9d30bc8b8', '2ba439c071951de2', '9e1296cc6e77692e', '767b224e45c517f8', '987472d0fdc1527e', 'd066344f0fe9cf80', '010d150e557efb3c', 'da1b697a85c8c70f', 'b6e98a2987d5c235', 'd5a97a637165ceb6', '572593dcf8b46efc', 'ae0c3b112daaa440', '79cfe3e668b8bbce', '7d58c31b6964200b', '50c393f158c3de2d', '8ea96d9da40119a3', 'e04cc70070535a3d', '32139a7ecf31852d', '4f49e3f99b798557', '8d6228506ef7ca31', '7c57fb2a9b073885', 'df6446750dccf6fa', '742b49a69538d7f8', '327abf77d1701bdb', 'ad9dc0bfed9b72cd', 'da95b7e42773e6dd', '04f46548c7d53d51', 'd74fd7075ad2df4e'], 'sentence': 'I see a poor woman died in one of them the other day, and I have no :doubt that hundreds of others have silently died from the colds and fevers that have been caught in inclement weather in these un• Christian conveyances.', 'nationality': ['Christian'], 'score': -0.9245007038116455}\n",
      "{'source': ['70944db6d4941b54', '4ae9a8e7327d29e1', 'a8b6a6ecaa417da1', 'ba0ae481022fd6c4', 'be2d84c653074194', '0816f690d1af6bd1', '13794fafc86b0ad4', 'b81299b61b667a16', 'a4d8f7b7ec662ffd', '36af5b35fbc4f00f', 'bb9604c9961d2580', 'ebf3615d670c9fea', '5eb4db1d94102aaf', '29d153f10ebb34be', '16e8df1adde8239b', 'd4cf50a97a811b32', 'bd11b5757824ef46', '3986879bd8e5fbde', '91f29be4efb57403', '874e069ad4fadfcf', '7891f94a041f5e93', 'feb5a0f219820ef5', 'abf93ae97ab3164d', '8950bdf4322af442', '165ae931028cfbcd', '82b8f8e6442165fa', '0943a6954ee243bb', '372b52696cd3480a', '522a40417995dfa6', 'aceee55f0f7d4d83', 'b53dddff5421f3a9', 'cd69a3667439d91f', '4331c96f4fbcfdd3', '09027abe10fd1102', '0f86f7439e9991a7', '55c9d9fb2d1cdb55', 'ecf97316b0f63706', 'cc46e20af2b316ea', '564936e0b3845f63', '5d2e59e4c2a10d22', 'afe65841bc2d595b', '8c8276ece7dd49e7', '6e7b9b9c01665519', '4a92757fb012e1a8', '13e4ca6c6cb9e23a', 'afc636ab679d2067', '90a4282f45a10415', '1d057d95b5c3f309', '32fe5dbb17213977', '462ad26810f26bda', '3412e7fba2af8bcb', '743d73d51c7f6421', '36db28ca4a3b9f8a', '8e935e770613f7ac', 'da5d0277e1b3d706', 'cfcbf9d8005eacde', '4514f2c513e6996e', '143311ab81b7514a', '4ac2f22740208fe3', '3bf0c17956dab37e', 'a06a071a5c1b801d', '9dbfd8cd1d631b79', '8552fcc297400c65', '60f07031cf5a9359', 'e86c98d21b56b16e', '49ba9ee7b95bd85f', 'b278b4e9150ea009', '09aa616a68ab5cb8', '21a07c6f15ba38a1', '604e620cc24bbb16', 'f3502d2faccb42f4', 'eb4bd64f7014f7d4', 'e580bf1d2f7cfdda', '0ca4914974535f50', '22b934a8d4a74ba7', '9e49293c8cf22277', '770d190ed7319639', 'a259d205715057c7', 'd771ea738a407113', '1e11a753ff1dcb5e', '6006169d1f43c120', 'a295dad04b497ae8', '3d86ca4e0fe2ab8a', '5130f1272d2b17cc', 'b32627e99cbe7987', 'ba53d22651f4d0d2', '3201f1f45ca8f451', 'aeb8b50feb9e7def', '53872d132e060753', '1289ac4c39921f3c', '7839f3f7e2fa488e', 'd0bdfeabcb97dcfa', 'ff1e3993a8e79c0e', '47b99ad7f1f17859', '0ab607fd896e8df8', '0639848f3e0d7e91', 'dbebf9ecd5f064df', 'c9b8de3ce3fc612f', 'ca08d8a9893cda34', '81dede279cd511b3'], 'sentence': \"The horrible pra6lice -of assassination is as prevalent as ever in'the Italian States.\", 'nationality': ['Italian'], 'score': -0.900540828704834}\n",
      "{'source': ['d85d2f8748a3e76b', '1401808852a1104c', 'd5d5bcdbd22c4b3c', '6639a28a2e529ab9', '81026f74bd7fbed6', 'f2b28b6337cb4579', '335d29b03b2290fc', '8db8171c89fa8e24', '9bf2b549d9783139', 'cf88d91fcb0693d9', '1acd04123cb63e67', '6ccf106974238b96', 'c70f4ed69db00972', 'b036154fb12a8426', '38a086fb066753f4', '8d53bc5ea29bd16f', 'e11664bb12aeef7e', 'bf9c0e8a0e7a838a', '8e7077deae9c1ed8', '66522ee72d057160', '2842e06fcb1b0f6f', 'd2ddbe36ed449ead', '5468f111b46ab189', '23123984cbc7aba6', 'b203a4cccf46c64f', '8ee06b19b5b65091', '531efc3e46f8b40a', 'f7bdaa80e65dc289', '7fdca686b46a1288', 'aa630a042728e972', '34eb60bd77918a54', 'aaa29b11f2852698', 'd20e03a890b77813', 'c450efcf883e4a8e', '701864c163f29971', 'b978cd10f6e85e47', 'd300f93dbc16f6f9', '92a83a812efd15d7', '90a3f35fe3a6255e', 'f9379b243370c35d', '12490e5c3d458b0d', 'f44070c414d8a1b2', '296cb41d6ce5a326', '950d019ef5e836cd', 'c07d3d122980cd42', '9c6b19cbddb49287', '01494667175c9d3f', '50571d6e52070e84', '75dfbcba4a519fdc', '7e4dd98feca9fd92', '4f9199de5d4a9168', '746bdb0332b1b059', '0bdde48ccb720874', 'de0f8967a0a7d60d', 'cd163cc64a23056b', '6829725f3c2795b0', '81eab2d6881f7325', '77b87b258db356ee', '7bb7fa4d5fc3ac68', 'eae97710570cb935', 'be68170d1ab89260', '01038e14990e6e23', '5dbc2ec7fb1f24a6', '582c47c85416e937', 'afef1538bbcc158f', '06aba664dabebc7b', 'c10c8e40bf987574', 'c2764ffd651f32df', '2e26c1943047dc52', '7764083b89fecb03', 'cc7f0b7cbd5fbf05', 'b9dde226f0dc460b', 'a347dbe0a4e7ab2b', '461e44f78e8acb70', '578ad2b853a31142', 'cc1c21c9fab2bf4d', 'e7330eec0f040758', '53d52677d990adac', '4d0b958f7e20f123', '4f17bbb261293c7c', '37c727563971ff1d', '684c0852c0af9d2d', 'dd234de471674b8c', '98ea9c6fb6613379', 'a697aaf881612282', '3e372cdaa24e36f3', 'b7eea06ffa2546e7', '11c7d1fb631b6343', '3de96c25ce3218c2', '6a30af0207bab79b', '4c891d27b2db7f27', '616b204e5ddc5c10', '1e7396180286b531', '3cebcdb37111b96d', '67813576525f1d9d', '8b43e1940cce0930', '4839d17da9d42999', 'c584dcb47d0fb33d', '1aeb42ef57dbbd31', 'fa23edfcd343a287'], 'sentence': 'Frantie is utteriv and definitely defeated, and she has been brought so low that she umat perforce accept the terms of the vietorioaa Germans.', 'nationality': ['Germans'], 'score': -0.90944904088974}\n",
      "{'source': ['9202f6f6ad65f370', 'cd729690cfb61f26', 'f03929983ce7852b', '5d26c7d746e64582', '8af72818aa2b5ae3', '6c7787ddc4cfaa37', '68a868e6cecc7faa', '9e48503687b34bfc', 'c90c233eeda21c41', '842469e01fe38a81', 'd98c7902a04ccb34', '66d349bb719be691', '6f584b37f5fee824', 'dcde79b4f7c2ab81', 'e05c2650642be73c', '4134dc854e1e06bd', '1f5ab795cd19fcd0', '2cff92c82967f726', '28a4f2d566fdd004', 'acf0925a376be01b', 'b57799fdc917f4e2', '2b6c8076f3dac567', '82089c60a7b28cb1', '628ebfb4087d2565', '9cd7d38894c47066', '656195b687ac4809', '1fe5c01d0aa5fc60', '4fe2c37fd4c8edf1', 'c4382316ab0efcf4', '491ce4224394a717', '9ce4cedf0a9e43d9', '592100e991601ade', 'd4de58d994ef7c1f', '6e64c1f135dd79e1', 'adac9350366ba5b7', '8fdb226d763d81be', '4d65058185c4aa30', 'c0cab45b17725641', '9e975b9a2fc64874', 'b18dd1505dc3625c', 'f3ecce1e57c6d4c7', '15fb48b7ed87df72', 'ac32daba8b7c22dc', 'c0ac57aba6c69241', 'fd3a96f1dbaf6fde', 'b2af15e39a3c3824', '8962b0e515549d2f', 'e90e302528d95646', '301eb28f39e7a8db', '2890e29b68e32403', '97948e1bbeedc9f5', '07c0b866cd2f87fc', 'b6e2f3965829ae2b', 'a7f09b03a055de04', '899146c149763411', '06a4ed05dfe1b2d7', '577243d2d7b28afb', 'f47cb00b9228d2a1', '5c411765577488d4', '23282c054a925340', 'd64a3da7e197123d', 'c5706c1ac4e2049c', '1005dca18dd2433f', 'a30bb20484b70655', 'b50018e76b8bbc3e', '52725a9a7c62bb4f', '50d6a61e8294c0ee', '7cfd27bed5889d7c', '74a90a6696a22dff', 'f7d65f99ebb78591', 'f5c32f911ee8290d', 'e39aa2f50c8cf820', '306bdaa47bb8c127', 'f0689e0dafa09116', '532879251bf4b7af', '3b012b78e77f2cca', 'e9dee93ff891b2bc', '7c36d8686470acf1', '7058a4c44c0535c0', '9834374323ddd647', 'c4815b22a8fa8a5d', '23e0e746e33f05c2', 'cd85d6d59810e8a1', '91aa35b0b06d9a24', '02062f69044b5cf7', '2444f7697aff6962', '46490ca6c45e7151', '4ec3afbf16e7a2e8', 'f9d2c85eae490d61', '2ab4bd96e92a2865', 'ac9c76c2b0ce8fa1', '735591bcf3c2d27a', 'e3f163e251d4b7e7', 'e82e4b41ff83198c', '6b9e4e9a1af35c19', '04e5f8e7b6a473e4', 'd924dcbe39d21b51', 'a02a74e415939132', 'c68bc1bb67667712', '338f3cfe5d559d98'], 'sentence': 'Their exactions had been so great that the place was nearly deserted, the merchants having left their goods in the Custom-house at the mercy of the soldiery; and that part of Yemen under the authority of the Imaum was daily hastening to ruin.', 'nationality': ['Custom'], 'score': -0.914648175239563}\n",
      "{'source': ['394924622dfba630', '2647fab2472be49b', '73477e7667d8718a', 'fbc66d451ce11d88', '6b330b43a527c3a0', '1d4d2cdc07316580', '138432192dc25a7e', '4b73618802a2ea8c', '3859287e305429c7', '106490f5ff973601', 'b469b1219136847a', 'b8e4ea347ccd0321', '1d51f99be0742809', '089cd38029c4445b', 'b45dadadca562d93', '7413dc6b6a2b53fc', '452215c3c320ff63', '8d089b9b4294a7b2', 'a0c87549ff7a2c3e', '2b3ed4e2a11e9eb2', '48c5de5d446bcbdb', '18d6b23270017336', '1d51f99be0742809', '89bcbae9bdc90f0f', '4fb5fbb5c14868b7', '969d0be1e36adf65', '3f37d1678c2e97ad', 'f0bdeaa8c6e910ef', '519d45d435889c1e', '1cca0fa57bfef72d', '7b3438afd5a7aa0e', '2dfad5d5800ad829', '47bc9c3cdc7e51ac', '801c1779532db267', '2e76328848fc4037', 'f202ab637ad434c5', '581f2b2e5bf1a152', '394924622dfba630', '02591418a477257d', 'f1400a22563edb27', '2f469b7eb7d473fc', '82fb104393ce3f01', '0693bbe5d4b59fb0', 'da4c8faba171c2f5', 'cb0b20a20b43f747', 'a37e93486f19d705', 'cb7aa5cc327e9121', 'ce9a6e345b9fd140', 'e7935d8b70c397a7', '6d2e6eb679c6cee7', 'e05762f9bf639e32', 'ac4327d7742bdc9d', 'a349b7668697765f', '3b67389a943cb957', '189eb54d9d6ae46f', 'a11c540b443b8c68', '288351a8cadabbe2', '71cf5291ebbbce0f', '164966d681c9fcf8', '02bf4b1092943947', '99028aa386854dbf', 'e6f9be563b62d209', 'b024b0359101b332', 'b4712dea17f1715e', '45cae4d3d9793908', 'd2741344148a91f4', 'a16e83c127b7c56e', 'fe2d528354fb649c', '4029d92a8ec3c8b5', 'fceb02b01dfeab1d', 'e3b3e0733d6984d6', '86cc7ec29904cb67', '6fcd719d03fcae3b', '75b67d274fbd4c58', 'aa44ca74f0df5a2c', 'ed0616c33ab1bdf5', 'fa2014d0e307689d', '2c9673efcb6f5867', 'fd5244205cadd638', '7f038b36666eedaf', 'cb7aa5cc327e9121', 'bdc8939e8804aead', '570b6475b8cf79c6', 'be4a38baa68e82fc', 'cb7aa5cc327e9121', '394924622dfba630', '6b9dbbaa726d319c', 'b369b3735112580c', '32e30d1c2d627db7', '75e84ff2de17993b', '861233a22a265b50', '394924622dfba630', 'c1018f8c41778ede', 'b7f7ab035683d9f5', '5edc62946ac44fd9', '1d51f99be0742809', 'e3238354d03f9610', 'bdc8939e8804aead', 'bc89c51d7c0dc52c', '83f43a75203d7c7d'], 'sentence': 'The Virginians seem now to be the most dreaded.', 'nationality': ['Virginians'], 'score': -0.9013506174087524}\n",
      "{'source': ['41d76ff28aee0744', 'e2b39766ae3be161', 'bbdf6b3a204240cc', 'e35e90866a398a8c', 'ef371890946bd79d', '03533eb4b9d1d327', 'a5cd6baf990a3b45', 'a3c019d6c826771b', 'fbfe66c1431e2d51', '0b6ba1060f243bd8', 'ee72f6953dac9b46', '56e68c18a3bf4f31', '5aa65a2b420acb2d', '612ea85901aeb9c9', 'd9b808d1fc0966a5', '952b6a8f9581dacd', 'd3fd19332de15a03', '8a0c8d4d95df4186', '447d13bfa4a97b7b', '8ed38aea8daf7e93', '705db198b9d33b08', '166d6892b4b01432', '2625de60a5f7083b', 'f5eee75710db7cb6', '67087f010565c7f2', 'd9f086032940786d', 'bd15b534c62d8668', '3e3a96c0d16b13c9', '8eec57cb33951747', 'e772ef378566b377', '28f71a64a994ff50', '7843c25bd86914e5', '10d52a85e1de6d45', '09bf3de105498880', 'ede20d96cfbbcb71', 'c9e0c2276da2d43a', 'b50a3587c0290a8e', '83c4e010b742cdbb', '398cafd6326155bf', '71c577c284c0b4f0', '1c9819f6633475ab', 'c04a8980a3bc3e85', '091c7d4c91e40495', '5f4f739a77b94862', '69724844c7411cfc', '1ab7542634caacbc', 'b403af5bfcea1d6b', '768c71d785bf6bbb', 'cb13125403fd957b', '7a07f8301d614e98', 'a9e99469becbae5b', '79a5ee4aa27d3299', '8f5290fde5fbf815', 'c6da77f2a6ff6c65', '81691e935188b24b', '1b075458b8f7e362', '7ea3fa3f2a0bf453', 'b44828fbfa184f95', '8d8876c31aa00e84', '77e6abc8e81e7726', '8ff81ce0666db7d5', 'f8ca94def844d1b5', '741c80a823738c97', '40e5fa30585a2b31', '34dd464673e744fe', '3b4abaf2be295b34', '8e022455fa42a982', 'da1726f17ccc6bf9', '6984c4c8839e88b3', '5c805bc434636e3c', '7146e7f3670947f2', '6eea2838436387b9', '88018b270f38a6c0', 'b8c33bd15d061e44', '65709c18927a068b', '593b69ed128f9972', 'a56cf2f8da87a324', 'a165212ab4fba4a3', 'f1e42eab60b57451', 'faebe3fdeda87a77', 'c7d792f0571302d5', '9b041954ad576bfb', '217f63fe9bf02866', '3c23a134492c8f8d', '4e31c3a3c5d1421b', '61cd099f0dfd4862', 'c4a8cab51a27eb75', '9d800d537b84d4c4', '7d8b1205d14a5d9c', '89593f8a6bd5c9d4', 'a2041740d0a0c705', '27ac43b17202bf97', '56b33e3912d12202', '40e5fa30585a2b31', '1e8e1db014d80432', 'f05ba4a9b5e9951f', 'ee3a3baea1d6ab26', '4c18d09e22a44b0d', '46dfd17bec72d09b', 'd3575748e8883a61'], 'sentence': 'have .exposed our troops to dreadful hardships and losses, lowered our military reputation abroad, and compromised the success of the Crimean elpedition.', 'nationality': ['Crimean'], 'score': -0.9148396253585815}\n",
      "{'source': ['3152a8312de61abd', '1d7b1ba56fbf1989', 'a42c98df6da7b795', '59c6b025b0d2013d', '9d8121dcf607c0b6', '5636bf7c04de5187', 'a7f65d4b332bd361', '50c393f158c3de2d', 'beadba836315747f', '5d5384dcb0a2c1a2', '93e0da22d9cb7397', 'dd29908dd97805d6', '4cb9ae680b1e0a21', '3e70561e8f58a251', '9608902f05c25484', '955d4ffed31fc6f1', '2e3449509f01e088', '119e68eb9245d72f', '1dcacf0a731e9292', '66e2c2a3e40f8a14', '7de1555df0c27003', '2ecb2a83b7b226e0', 'eebe5a90222d3213', '1af41315ef3f044e', 'e6ab253c5f96017e', '5095479ddbb38fa7', '0477cd9eadb00fc0', 'b9c31a1f652ed3bc', 'b2cc606e273417c1', '4325e595c29f227e', 'ffabd32e11586b90', 'acd59ed668830c2d', '48c684d073326853', '2dbc3457c34dc0ae', '790a17a97224148c', 'a6a5bfe9af3232ec', '8b4cd7c2156dc8b5', '343c0017255d513c', '6d608f4ddc0b0b52', '200649fab88b1311', '07083b922931e54c', '4549e668c61b7af0', '4355a46b19d348dc', 'e203c9151fe21f87', '62d0a983c93b527e', '518553d0e8884bb8', '9b2e37fdd6bd672d', '67f471b57b7dc2ab', '61d1954b9aba0c9a', '9c9080b1b0fb5f59', '00669cea7a3f6717', 'eb4bd64f7014f7d4', '3e22d57398472a05', 'eab28eeb31765e17', '811c3b1f4ae6d063', '4355a46b19d348dc', 'ce247c38ad541bad', '5e3cd15a6912fe73', 'abb0dba2ff92ffbf', 'a3d0a8889011388b', 'd81a7e8a9542f8c3', 'b0363846d2e4c634', 'f0ed1d3b4c0e08a5', '0fabf9571abef3f0', 'd879eae76330db81', 'd9aace1cc1cf0c91', '342aaaeada71ead4', '7aaa01a6f7de2316', '3455b2912de1869d', '5f533ba605061757', '8ab2bacca3122ebf', 'dc1c6334b855f8ba', 'acad8af302a5d707', 'e74edbd409998684', 'f5c2c0efec6b251c', 'ea45f86b2e8d2f5b', '581f922ec302f80f', '99ed8753dc515826', '6cded413ae421fb7', 'd0426ab564cf8f91', '31cb9a89c1e4ec50', '166f48daa18fc692', '14cb2247886e1e4f', '298a38d4c5128c18', 'bb9cce8602b4ffd7', '6aad64d7f4f0d040', '53b9bca6e9c27d66', '905aecf5f1a7883f', '176c6866a4099300', '87229e462d9abcde', 'ea9ebe022fae0180', '4355a46b19d348dc', 'fa870b653426329a', '2ba33b94c8849fb5', '1be401d325029106', '4a849f5b1f0939b6', '1496546da64a93bf', '6e3e927489b9e93b', 'd0a821d18d4dbc27', '6132bcf5ca00d982'], 'sentence': \"A Coroner's Inquest was held at is painful to behold ; their villages all in ruins, themthe above place on Wednesday, before A. Gell, Esq.\", 'nationality': ['Coroner'], 'score': -0.9090560078620911}\n",
      "{'source': ['15e3f1f463baf908', 'cd99a140a6501330', 'b900fa98723afd09', '4bf79df40ccd76f7', '1463a0de0aba2eff', '8678d8f97f9a0c37', 'c7876d1d30e61225', '80eba9300d772cae', 'eb994d4e70e3c89b', '259b4d1e888100be', '6a73718f0ad52d31', '9ac55ad424757329', '1cdda1555c7d0484', 'cb0852122186e523', 'd9ebc5ca3f27c627', '21d55872700d4232', '6194c6b2602d04cb', '077d7224adb3dbe0', 'f31ebf27f5db5513', '0885e34cdb8845da', '1c12800c1203df55', '0c91b5ad1bab146e', '7f405ed72c83c821', 'eeb8640a7ffa7ded', 'c412c73a66605dd1', 'f93c592c8400bbc5', '5051ef667aca5082', '770178ffce902a19', 'b05616d367097e0a', 'ce40b05101d28675', 'de834d099c1fe345', '3eb8da44aff6a6b2', '850753ccb0747e6e', '9836eef3bda3b013', 'df24df72b6fd8732', '9ccc17631fb237fd', '73629582a67d519e', '8cca4e46a1a0c527', 'a4de3209e9cf0d0a', 'f3a8b90becbd76be', 'c83ffd34f5b9f355', 'abe18c6b60a67c6a', 'bc0f3de7c04d271e', '2f5c25833a649e4b', 'cf55e8af5a267925', '06e948e0b9477d07', '75cc9a8bb8c2f9c0', 'd30b5481931de5e4', '63ab473286301ebb', 'cbdcda885dc2ae97', '2e6f1134f8a68095', '6c8b7f8cb22e3a0c', '6de27a67b1eb03da', 'e3feafbfb6448e85', 'f5f9966dbcb9ce30', '0647fcbf06640f5b', '096ab498d409922d', '2f62f808fba828a1', 'addfe11945abd79d', '26ded4b8c36bc6e2', '412b4318fe6ae422', 'b60055c35f3a70fe', 'ab9091c02ded46b1', '2177e9855aa3e600', '3193594d17f18410', 'e6997b11f72fb035', '5ab5b6885197a375', '778ffb15d5c1dff0', 'f076e8f81dd6fca0', '0647fcbf06640f5b', '0741d07c4de89107', '4355a46b19d348dc', 'a0a4c2a270361ebe', 'fc9af09f64af12ec', '008cfce39ed0caa6', '86d609ec49928abc', 'd362c8a66d476d2b', 'e2209aebd07adf85', '31af6d2aad13764c', '354dcbc4cfba7745', '0d8c8cb9492f0800', 'a7ae28518084931f', '9346a021b4d46bad', '364c5765e4d601b8', '343a3a7bc0ef4257', 'dfa6243f5e99b0d8', 'd8072878fa40595a', '0faabbfccd7fba57', 'dc2b93874cc921a2', '906ba8f0df661ec0', '743f8fff690e60d9', 'c764eb859c3436b1', '4053c4f5ff5fe935', '341d4a42df9a64db', '6f01abbfeac181be', '890e0c43d582ac9f', '7bc53d51861f86a2', '044a9c67aab74eea', '1f38c68847814bb3', 'a5b8d60c4c08da0b'], 'sentence': 'In addition to the loss of invaluable services, these untimely deaths are a great misfortune to the cause of African civilisation, because people immediately ascribe them to the inevitable effects of the climate, and with you say \" it is of no use to send missionarics where they cannot live.\"', 'nationality': ['African'], 'score': -0.9020863175392151}\n"
     ]
    }
   ],
   "source": [
    "for example in dataset.filter(lambda x: x[\"score\"] < -0.9):\n",
    "    print(example)"
   ]
  },
  {
   "cell_type": "code",
   "execution_count": 86,
   "id": "9f582b15-09d8-4a79-a672-9ca3b644930c",
   "metadata": {},
   "outputs": [
    {
     "data": {
      "text/plain": [
       "{'source': ['d6191a4143f97c29',\n",
       "  '2b027a24397568f0',\n",
       "  'fb39f19450b47337',\n",
       "  'fe431db67f7bf7a4',\n",
       "  '59dbd247f06b69c0',\n",
       "  '66b91798069e80d5',\n",
       "  'd83fa7542d36609a',\n",
       "  'f37e23b684a1eb5d',\n",
       "  'fa649e968cd7276e',\n",
       "  '3453b2f24d252125',\n",
       "  '5f53f991e70cb72e',\n",
       "  'e565a80bd3743a0b',\n",
       "  '60925b1ed81c1b80',\n",
       "  '88968507e86b8d62',\n",
       "  '4041f7942d5b0468',\n",
       "  'da88246c4de196dc',\n",
       "  '70a3b0f4d254f999',\n",
       "  '2078d1bdeb0071eb',\n",
       "  '71928e4d7660bee2',\n",
       "  '7728b0a6983f1273',\n",
       "  'b3d166e7287a3b4d',\n",
       "  '6447bfd950f9404d',\n",
       "  '4ea6c38eef8c72c7',\n",
       "  'd8515b55fd93b87c',\n",
       "  '6d6993675bdf8da5',\n",
       "  'a8eb2fa25cd4bacb',\n",
       "  '2147ae007a226cd6',\n",
       "  'e9a05c4bf8c65410',\n",
       "  '3bd42caf2fd5a4a3',\n",
       "  'd5fa9f5e3b8030b9',\n",
       "  '10188102190022dc',\n",
       "  'edaa1fefe83f24df',\n",
       "  '68a25b4520231112',\n",
       "  'd65e7ec367944285',\n",
       "  '70017a30045ebbad',\n",
       "  'b1064bbc6b16c8f6',\n",
       "  'e1b190ec97a82ee9',\n",
       "  'd78693446589e70c',\n",
       "  '8c871b639f0d3124',\n",
       "  'c120d511c209d48c',\n",
       "  'ca36640ffeddd875',\n",
       "  'd774c351aeb84994',\n",
       "  '39791c2372beadee',\n",
       "  'c57f80ac32062f49',\n",
       "  '842ca903396d60a5',\n",
       "  '5bba2dcedcfea391',\n",
       "  'aec651ccb47d1539',\n",
       "  '644c1307f0d017e8',\n",
       "  '56a8a12f68bc0bd9',\n",
       "  'e496fd2d4f4f427d',\n",
       "  'f26e6dfb46c457b4',\n",
       "  'a10940bb83b7c13f',\n",
       "  'a5592a1dfb85e636',\n",
       "  '999e2d07a35e15b1',\n",
       "  'd9a95b61d09b4aeb',\n",
       "  '3ec0115f13da0fb4',\n",
       "  '5962a4fcfd79ca89',\n",
       "  '89231c6443ace8db',\n",
       "  'cbf52dc3ffc338d3',\n",
       "  '17ac15639da71cbf',\n",
       "  '7da7377f21735e1a',\n",
       "  'd467e6ef62f27262',\n",
       "  'e2309e7c6fa505ff',\n",
       "  '9203d7c5cffa3870',\n",
       "  '4a0d4fc4aaa0673d',\n",
       "  '259fba88e8ad42bf',\n",
       "  '6fbf60a906c68f3c',\n",
       "  'ca2e4198cecc3f3d',\n",
       "  '93be5f57d0aaaf1a',\n",
       "  '9b01211b843b9eb3',\n",
       "  '21f40a221798d62a',\n",
       "  '6bcf3fd3c5be48f4',\n",
       "  '48c9c50259eccd2b',\n",
       "  'dd23d8fef2bb1cdb',\n",
       "  'e37768d39e6e57f3',\n",
       "  '1f0633bddd658ee3',\n",
       "  '10f3bcfc0545d5f2',\n",
       "  'f2d89f8851db7b25',\n",
       "  '398d773f7d79f5b7',\n",
       "  'd7a05bbdd473336f',\n",
       "  '040d0929723f1f37',\n",
       "  'fb09a50a3ee36293',\n",
       "  '18836d307e31a2b1',\n",
       "  '2c2ed099f8045b2c',\n",
       "  'c41f806c32ac68a3',\n",
       "  '04c107d238c5607a',\n",
       "  '324189ec78fad073',\n",
       "  '4148531bdc9a552d',\n",
       "  '166a14f838f49200',\n",
       "  '4041f7942d5b0468',\n",
       "  '980a8dc6000f6f3a',\n",
       "  '62feb8d1bf348be0',\n",
       "  'a4a29bdc54eb9117',\n",
       "  '0ca45d124112ba21',\n",
       "  '43cd2534d6b23a91',\n",
       "  'eaac8e64c5aa7613',\n",
       "  'ca15ba32206c62a8',\n",
       "  '2886de3e60fd04c4',\n",
       "  'def15d0dd7645961',\n",
       "  '198a1fa0b91bbf83'],\n",
       " 'sentence': 'Bank of Australasia declinea to 691 ; London and South African improved to 231 ; Union of Australia btougbt 69i; and Crystal Palace Stock declined to 361.',\n",
       " 'nationality': ['South African'],\n",
       " 'score': -0.5138016939163208}"
      ]
     },
     "execution_count": 86,
     "metadata": {},
     "output_type": "execute_result"
    }
   ],
   "source": [
    "dataset[0]"
   ]
  },
  {
   "cell_type": "code",
   "execution_count": 22,
   "id": "41368fc9-6a00-4606-bb45-77200d151ab8",
   "metadata": {},
   "outputs": [
    {
     "ename": "NameError",
     "evalue": "name 'df' is not defined",
     "output_type": "error",
     "traceback": [
      "\u001b[0;31m---------------------------------------------------------------------------\u001b[0m",
      "\u001b[0;31mNameError\u001b[0m                                 Traceback (most recent call last)",
      "Cell \u001b[0;32mIn[22], line 6\u001b[0m\n\u001b[1;32m      3\u001b[0m count \u001b[38;5;241m=\u001b[39m \u001b[38;5;241m0\u001b[39m\n\u001b[1;32m      4\u001b[0m to_drop \u001b[38;5;241m=\u001b[39m []\n\u001b[0;32m----> 6\u001b[0m \u001b[38;5;28;01mfor\u001b[39;00m index1, row1 \u001b[38;5;129;01min\u001b[39;00m \u001b[43mdf\u001b[49m\u001b[38;5;241m.\u001b[39miterrows():\n\u001b[1;32m      7\u001b[0m     \u001b[38;5;28;01mfor\u001b[39;00m index2, row2 \u001b[38;5;129;01min\u001b[39;00m df\u001b[38;5;241m.\u001b[39miloc[index1\u001b[38;5;241m+\u001b[39m\u001b[38;5;241m1\u001b[39m:]\u001b[38;5;241m.\u001b[39miterrows():\n\u001b[1;32m      8\u001b[0m         \u001b[38;5;28;01mif\u001b[39;00m fuzz\u001b[38;5;241m.\u001b[39mratio(row1[column], row2[column]) \u001b[38;5;241m>\u001b[39m threshold:\n",
      "\u001b[0;31mNameError\u001b[0m: name 'df' is not defined"
     ]
    }
   ],
   "source": [
    "column = \"text\"\n",
    "threshold = 90\n",
    "count = 0\n",
    "to_drop = []\n",
    "\n",
    "for index1, row1 in df.iterrows():\n",
    "    for index2, row2 in df.iloc[index1+1:].iterrows():\n",
    "        if fuzz.ratio(row1[column], row2[column]) > threshold:\n",
    "            to_drop.append(index2)\n",
    "            count += 1"
   ]
  },
  {
   "cell_type": "code",
   "execution_count": null,
   "id": "acceceaf-7c9f-4378-8bfe-4ae26d98607a",
   "metadata": {},
   "outputs": [],
   "source": [
    "df = df.drop(to_drop)\n",
    "print(\"Number of duplicated rows:\", count)"
   ]
  },
  {
   "cell_type": "code",
   "execution_count": null,
   "id": "30b693bc-33a5-418d-a0c0-4d686f0962d4",
   "metadata": {},
   "outputs": [],
   "source": [
    "# Aggregate the scores by date and calculate the mean for each day\n",
    "df.index = pd.to_datetime(df['date'])\n",
    "df_aggregated = df.resample(rule='YE')['score'].mean().reset_index().fillna(0.)"
   ]
  },
  {
   "cell_type": "code",
   "execution_count": null,
   "id": "945623f2-0900-4d6f-bb19-569b38f9db7a",
   "metadata": {},
   "outputs": [],
   "source": [
    "# Plotting the data\n",
    "plt.figure(figsize=(20, 4))\n",
    "plt.plot(df_aggregated['date'], df_aggregated['score'], marker='o')\n",
    "plt.title('Average Score Over Time')\n",
    "plt.xlabel('Date')\n",
    "plt.ylabel('Average Score')\n",
    "plt.xticks(rotation=45)  # Rotate date labels for better readability\n",
    "plt.grid(True)\n",
    "plt.tight_layout()\n",
    "plt.show()"
   ]
  },
  {
   "cell_type": "code",
   "execution_count": null,
   "id": "9f8171fa-767f-4357-9c54-331c60cdbfaf",
   "metadata": {},
   "outputs": [],
   "source": [
    "df_aggregated['smoothed_score'] = df_aggregated['score'].rolling(window=3, min_periods=1).mean()"
   ]
  },
  {
   "cell_type": "code",
   "execution_count": null,
   "id": "7eb3ab5c-7d3a-48ed-8b33-7612555be76b",
   "metadata": {},
   "outputs": [],
   "source": [
    "# Plot the original and smoothed data\n",
    "plt.figure(figsize=(15, 4))\n",
    "plt.plot(df_aggregated['date'], df_aggregated['score'], label='Original', marker='o', alpha=0.6)\n",
    "plt.plot(df_aggregated['date'], df_aggregated['smoothed_score'], label='Smoothed (Rolling Avg)', linewidth=2)\n",
    "plt.title('Average Score Over Time with Smoothing')\n",
    "plt.xlabel('Date')\n",
    "plt.ylabel('Average Score')\n",
    "plt.xticks(rotation=45)\n",
    "plt.grid(True)\n",
    "plt.legend()\n",
    "plt.tight_layout()\n",
    "plt.show()"
   ]
  },
  {
   "cell_type": "code",
   "execution_count": null,
   "id": "a83b030e-cec0-48a1-89af-6723a2e69f75",
   "metadata": {},
   "outputs": [],
   "source": [
    "df[df.score < 0]"
   ]
  },
  {
   "cell_type": "code",
   "execution_count": null,
   "id": "2a9493bf-3d67-4ec2-b577-82d936a20150",
   "metadata": {},
   "outputs": [],
   "source": [
    "df[df.score < -0.9][\"text\"].values"
   ]
  },
  {
   "cell_type": "code",
   "execution_count": null,
   "id": "c62549c9-990f-4706-8843-e709b85fa97c",
   "metadata": {},
   "outputs": [],
   "source": []
  }
 ],
 "metadata": {
  "kernelspec": {
   "display_name": "Python 3 (ipykernel)",
   "language": "python",
   "name": "python3"
  },
  "language_info": {
   "codemirror_mode": {
    "name": "ipython",
    "version": 3
   },
   "file_extension": ".py",
   "mimetype": "text/x-python",
   "name": "python",
   "nbconvert_exporter": "python",
   "pygments_lexer": "ipython3",
   "version": "3.10.12"
  }
 },
 "nbformat": 4,
 "nbformat_minor": 5
}
